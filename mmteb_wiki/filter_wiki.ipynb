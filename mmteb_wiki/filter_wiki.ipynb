{
 "cells": [
  {
   "cell_type": "code",
   "execution_count": 9,
   "metadata": {},
   "outputs": [],
   "source": [
    "import json\n",
    "\n",
    "with open('qid_0-1000000.json', 'r') as f:\n",
    "    j0 = json.load(f)\n"
   ]
  },
  {
   "cell_type": "code",
   "execution_count": 10,
   "metadata": {},
   "outputs": [
    {
     "data": {
      "text/plain": [
       "{'item': 'http://www.wikidata.org/entity/Q1787900',\n",
       " 'article': 'https://de.wikipedia.org/wiki/Ro%C3%9Fbach_(Pfalz)'}"
      ]
     },
     "execution_count": 10,
     "metadata": {},
     "output_type": "execute_result"
    }
   ],
   "source": [
    "j0[-32]"
   ]
  },
  {
   "cell_type": "code",
   "execution_count": 11,
   "metadata": {},
   "outputs": [],
   "source": [
    "with open('qid_1000000-2000000.json', 'r') as f:\n",
    "    j1 = json.load(f)"
   ]
  },
  {
   "cell_type": "code",
   "execution_count": 12,
   "metadata": {},
   "outputs": [
    {
     "data": {
      "text/plain": [
       "{'item': 'http://www.wikidata.org/entity/Q1024796',\n",
       " 'article': 'https://de.wikipedia.org/wiki/Municipio_Cabezas'}"
      ]
     },
     "execution_count": 12,
     "metadata": {},
     "output_type": "execute_result"
    }
   ],
   "source": [
    "j1[-100]"
   ]
  },
  {
   "cell_type": "code",
   "execution_count": 13,
   "metadata": {},
   "outputs": [
    {
     "data": {
      "text/plain": [
       "3000000"
      ]
     },
     "execution_count": 13,
     "metadata": {},
     "output_type": "execute_result"
    }
   ],
   "source": [
    "qids = j0 + j1\n",
    "len(qids)\n",
    "\n"
   ]
  },
  {
   "cell_type": "code",
   "execution_count": 14,
   "metadata": {},
   "outputs": [],
   "source": [
    "from datasets import Dataset\n",
    "\n",
    "# Convert the list of dictionaries into a Hugging Face dataset\n",
    "# Ensure the dataset has 'item' and 'article' as features\n",
    "ds = Dataset.from_dict({\"item\": [q[\"item\"] for q in qids], \"article\": [q[\"article\"] for q in qids]})\n",
    "\n"
   ]
  },
  {
   "cell_type": "code",
   "execution_count": 15,
   "metadata": {},
   "outputs": [
    {
     "data": {
      "text/plain": [
       "{'item': 'http://www.wikidata.org/entity/Q51',\n",
       " 'article': 'https://de.wikipedia.org/wiki/Antarktika'}"
      ]
     },
     "execution_count": 15,
     "metadata": {},
     "output_type": "execute_result"
    }
   ],
   "source": [
    "ds[0]"
   ]
  },
  {
   "cell_type": "code",
   "execution_count": 16,
   "metadata": {},
   "outputs": [
    {
     "name": "stderr",
     "output_type": "stream",
     "text": [
      "Map: 100%|██████████| 3000000/3000000 [00:32<00:00, 90912.50 examples/s]\n"
     ]
    }
   ],
   "source": [
    "def extract_qid(item_url):\n",
    "    # Extract the QID from the end of the item URL\n",
    "    qid = item_url.split(\"/\")[-1]\n",
    "    return qid\n",
    "\n",
    "# Apply the function to map 'item' to its QID for each entry in the dataset\n",
    "ds = ds.map(lambda example: {\"item\": extract_qid(example[\"item\"])})\n"
   ]
  },
  {
   "cell_type": "code",
   "execution_count": 17,
   "metadata": {},
   "outputs": [
    {
     "data": {
      "text/plain": [
       "Dataset({\n",
       "    features: ['item', 'article'],\n",
       "    num_rows: 3000000\n",
       "})"
      ]
     },
     "execution_count": 17,
     "metadata": {},
     "output_type": "execute_result"
    }
   ],
   "source": [
    "ds"
   ]
  },
  {
   "cell_type": "code",
   "execution_count": 18,
   "metadata": {},
   "outputs": [],
   "source": [
    "ds = ds.rename_column(\"article\", \"url\")\n"
   ]
  },
  {
   "cell_type": "code",
   "execution_count": 19,
   "metadata": {},
   "outputs": [],
   "source": [
    "ds = ds.rename_column(\"item\", \"qid\")"
   ]
  },
  {
   "cell_type": "code",
   "execution_count": 20,
   "metadata": {},
   "outputs": [
    {
     "data": {
      "text/plain": [
       "{'qid': 'Q51', 'url': 'https://de.wikipedia.org/wiki/Antarktika'}"
      ]
     },
     "execution_count": 20,
     "metadata": {},
     "output_type": "execute_result"
    }
   ],
   "source": [
    "ds[0]"
   ]
  },
  {
   "cell_type": "code",
   "execution_count": 21,
   "metadata": {},
   "outputs": [],
   "source": [
    "from collections import Counter\n",
    "\n",
    "# Count duplicate entries based on 'qid'\n",
    "qid_counts = Counter([entry['qid'] for entry in ds])\n",
    "\n",
    "# Filter out unique entries for demonstration\n",
    "# duplicates = {qid: count for qid, count in qid_counts.items() if count > 1}\n",
    "\n",
    "# print(f\"Total duplicate entries: {len(duplicates)}\")\n",
    "# for qid, count in duplicates.items():\n",
    "#     print(f\"QID: {qid}, Count: {count}\")\n"
   ]
  },
  {
   "cell_type": "code",
   "execution_count": 22,
   "metadata": {},
   "outputs": [
    {
     "name": "stderr",
     "output_type": "stream",
     "text": [
      "Filter: 100%|██████████| 3000000/3000000 [00:03<00:00, 810270.98 examples/s]\n"
     ]
    },
    {
     "data": {
      "text/plain": [
       "Dataset({\n",
       "    features: ['qid', 'url'],\n",
       "    num_rows: 2998208\n",
       "})"
      ]
     },
     "execution_count": 22,
     "metadata": {},
     "output_type": "execute_result"
    }
   ],
   "source": [
    "# Remove duplicate entries based on 'qid'\n",
    "ds = ds.filter(lambda example: qid_counts[example['qid']] == 1)\n",
    "ds"
   ]
  },
  {
   "cell_type": "code",
   "execution_count": 23,
   "metadata": {},
   "outputs": [
    {
     "data": {
      "text/plain": [
       "Dataset({\n",
       "    features: ['qid', 'rank'],\n",
       "    num_rows: 24600464\n",
       "})"
      ]
     },
     "execution_count": 23,
     "metadata": {},
     "output_type": "execute_result"
    }
   ],
   "source": [
    "import pandas as pd\n",
    "from datasets import Dataset\n",
    "\n",
    "# Load the TSV file as a Pandas DataFrame\n",
    "df = pd.read_csv(\"2024-02-06.allwiki.links.rank\", sep=\"\\t\", header=None, names=[\"qid\", \"rank\"])\n",
    "\n",
    "# Convert the DataFrame to a Hugging Face Dataset\n",
    "ranks = Dataset.from_pandas(df)\n",
    "ranks"
   ]
  },
  {
   "cell_type": "code",
   "execution_count": 24,
   "metadata": {},
   "outputs": [
    {
     "data": {
      "text/plain": [
       "{'qid': 'Q4048908', 'rank': 154115.4560145852}"
      ]
     },
     "execution_count": 24,
     "metadata": {},
     "output_type": "execute_result"
    }
   ],
   "source": [
    "ranks[0]"
   ]
  },
  {
   "cell_type": "code",
   "execution_count": 25,
   "metadata": {},
   "outputs": [
    {
     "data": {
      "text/plain": [
       "Dataset({\n",
       "    features: ['qid', 'url', 'rank'],\n",
       "    num_rows: 2998208\n",
       "})"
      ]
     },
     "execution_count": 25,
     "metadata": {},
     "output_type": "execute_result"
    }
   ],
   "source": [
    "# Convert 'ds' dataset to a pandas DataFrame\n",
    "ds_df = ds.to_pandas()\n",
    "\n",
    "# Perform the left join of 'ds_df' with 'ranks' on 'qid'\n",
    "merged_df = ds_df.merge(ranks.to_pandas(), how='left', on='qid')\n",
    "\n",
    "# Convert the merged DataFrame back to a Hugging Face Dataset\n",
    "ds = Dataset.from_pandas(merged_df)\n",
    "ds\n"
   ]
  },
  {
   "cell_type": "code",
   "execution_count": 26,
   "metadata": {},
   "outputs": [
    {
     "data": {
      "text/plain": [
       "{'qid': 'Q51',\n",
       " 'url': 'https://de.wikipedia.org/wiki/Antarktika',\n",
       " 'rank': 2653.8168792123374}"
      ]
     },
     "execution_count": 26,
     "metadata": {},
     "output_type": "execute_result"
    }
   ],
   "source": [
    "ds[0]"
   ]
  },
  {
   "cell_type": "code",
   "execution_count": 27,
   "metadata": {},
   "outputs": [],
   "source": [
    "ds = ds.sort(\"rank\", reverse=True)"
   ]
  },
  {
   "cell_type": "code",
   "execution_count": 28,
   "metadata": {},
   "outputs": [],
   "source": [
    "ds = ds.select(range(20000))\n",
    "\n"
   ]
  },
  {
   "cell_type": "code",
   "execution_count": 29,
   "metadata": {},
   "outputs": [
    {
     "name": "stderr",
     "output_type": "stream",
     "text": [
      "Map: 100%|██████████| 20000/20000 [00:00<00:00, 37574.13 examples/s]\n"
     ]
    }
   ],
   "source": [
    "import urllib.parse\n",
    "\n",
    "# Function to normalize URLs\n",
    "def normalize_url(url):\n",
    "    # Parse the URL to components\n",
    "    parsed_url = urllib.parse.urlparse(url)\n",
    "    # Normalize the path component\n",
    "    normalized_path = urllib.parse.quote(urllib.parse.unquote(parsed_url.path))\n",
    "    # Reconstruct the URL with the normalized path\n",
    "    normalized_url = urllib.parse.urlunparse(\n",
    "        (parsed_url.scheme, parsed_url.netloc, normalized_path, parsed_url.params, parsed_url.query, parsed_url.fragment)\n",
    "    )\n",
    "    return normalized_url\n",
    "\n",
    "# Apply URL normalization to the 'url' column in the dataset\n",
    "ds = ds.map(lambda example: {\"url\": normalize_url(example[\"url\"])})\n"
   ]
  },
  {
   "cell_type": "code",
   "execution_count": 30,
   "metadata": {},
   "outputs": [
    {
     "data": {
      "text/plain": [
       "{'qid': ['Q4048908', 'Q565', 'Q1860', 'Q30', 'Q22664'],\n",
       " 'url': ['https://de.wikipedia.org/wiki/Kategorie%3AKategorie%3AVersteckt',\n",
       "  'https://de.wikipedia.org/wiki/Wikimedia_Commons',\n",
       "  'https://de.wikipedia.org/wiki/Englische_Sprache',\n",
       "  'https://de.wikipedia.org/wiki/Vereinigte_Staaten',\n",
       "  'https://de.wikipedia.org/wiki/Geographische_Koordinaten'],\n",
       " 'rank': [154115.4560145852,\n",
       "  113863.52443551894,\n",
       "  48414.26794242895,\n",
       "  47926.79854769398,\n",
       "  39933.91216185596]}"
      ]
     },
     "execution_count": 30,
     "metadata": {},
     "output_type": "execute_result"
    }
   ],
   "source": [
    "ds[:5]"
   ]
  },
  {
   "cell_type": "code",
   "execution_count": 31,
   "metadata": {},
   "outputs": [],
   "source": [
    "# from datasets import load_dataset\n",
    "\n",
    "# wiki = load_dataset(\"wikimedia/wikipedia\", \"20231101.de\", split=\"train\")\n"
   ]
  },
  {
   "cell_type": "code",
   "execution_count": 32,
   "metadata": {},
   "outputs": [],
   "source": [
    "article_to_info = {row['url']: {'qid': row['qid'], 'rank': row['rank']} for row in ds}"
   ]
  },
  {
   "cell_type": "code",
   "execution_count": 33,
   "metadata": {},
   "outputs": [],
   "source": [
    "with open('url_to_rank.json', 'w') as f:\n",
    "    json.dump(article_to_info, f)"
   ]
  },
  {
   "cell_type": "code",
   "execution_count": null,
   "metadata": {},
   "outputs": [],
   "source": []
  }
 ],
 "metadata": {
  "kernelspec": {
   "display_name": "ella-Fo85w5Vs-py3.10",
   "language": "python",
   "name": "python3"
  },
  "language_info": {
   "codemirror_mode": {
    "name": "ipython",
    "version": 3
   },
   "file_extension": ".py",
   "mimetype": "text/x-python",
   "name": "python",
   "nbconvert_exporter": "python",
   "pygments_lexer": "ipython3",
   "version": "3.11.9"
  }
 },
 "nbformat": 4,
 "nbformat_minor": 2
}
