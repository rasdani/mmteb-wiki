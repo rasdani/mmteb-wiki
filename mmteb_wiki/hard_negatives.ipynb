{
 "cells": [
  {
   "cell_type": "code",
   "execution_count": 1,
   "metadata": {},
   "outputs": [],
   "source": [
    "from datasets import load_dataset"
   ]
  },
  {
   "cell_type": "code",
   "execution_count": 6,
   "metadata": {},
   "outputs": [
    {
     "name": "stderr",
     "output_type": "stream",
     "text": [
      "/home/daniel/.cache/pypoetry/virtualenvs/mmteb-wiki-NBRrHnH0-py3.11/lib/python3.11/site-packages/datasets/load.py:1461: FutureWarning: The repository for jinaai/ger_da_lir contains custom code which must be executed to correctly load the dataset. You can inspect the repository content at https://hf.co/datasets/jinaai/ger_da_lir\n",
      "You can avoid this message in future by passing the argument `trust_remote_code=True`.\n",
      "Passing `trust_remote_code=True` will be mandatory to load this dataset from the next major release of `datasets`.\n",
      "  warnings.warn(\n",
      "Repo card metadata block was not found. Setting CardData to empty.\n",
      "Repo card metadata block was not found. Setting CardData to empty.\n",
      "Repo card metadata block was not found. Setting CardData to empty.\n"
     ]
    },
    {
     "name": "stdout",
     "output_type": "stream",
     "text": [
      "Dataset({\n",
      "    features: ['_id', 'title', 'text'],\n",
      "    num_rows: 131445\n",
      "})\n",
      "Dataset({\n",
      "    features: ['_id', 'title', 'text'],\n",
      "    num_rows: 12298\n",
      "})\n",
      "Dataset({\n",
      "    features: ['_id', 'title', 'text'],\n",
      "    num_rows: 12298\n",
      "})\n"
     ]
    }
   ],
   "source": [
    "corpus = load_dataset(\"jinaai/ger_da_lir\", \"corpus\", split=\"test\")\n",
    "queries = load_dataset(\"jinaai/ger_da_lir\", \"queries\", split=\"test\")\n",
    "qrels = load_dataset(\"jinaai/ger_da_lir\", \"qrels\", split=\"test\")\n",
    "print(corpus)\n",
    "print(queries)\n",
    "print(qrels)\n",
    "\n"
   ]
  },
  {
   "cell_type": "code",
   "execution_count": 7,
   "metadata": {},
   "outputs": [
    {
     "data": {
      "text/plain": [
       "{'_id': 'c1',\n",
       " 'title': '',\n",
       " 'text': 'Tenor Der Antrag der Klägerin auf Zulassung der Berufung gegen das Urteil des Verwaltungsgerichts Gelsenkirchen vom [DATE] wird abgelehnt. Die Klägerin trägt die Kosten des Zulassungsverfahrens. Der Streitwert wird auch für das Zulassungsverfahren auf 0 Euro festgesetzt. Gründe: Das Zulassungsvorbringen der Klägerin begründet keine ernstlichen Zweifel an der Richtigkeit des angefochtenen Urteils . Zweifel in diesem Sinn sind anzunehmen, wenn ein einzelner tragender Rechtssatz oder eine einzelne erhebliche Tatsachenfeststellung des Verwaltungsgerichts mit schlüssigen Gegenargumenten in Frage gestellt werden. Daran fehlt es hier. Die Antragsbegründung, wonach die Klägerin entgegen den Ausführungen im angefochtenen Urteil zuverlässig sei und die Urteilsausführungen insbesondere aufgrund des immensen Zeitablaufs, der seit den letzten Verstößen vergangen sei, nicht geeignet seien, an der Zuverlässigkeit der Klägerin zu zweifeln, enthält kein schlüssiges Gegenargument, das die tragenden Ausführungen des Verwaltungsgerichts in Frage zu stellen geeignet ist. Danach sei die Erlaubnis schon deshalb zu versagen, weil der Betrieb der in Rede stehenden Spielhalle im Sinne von [REF] den Zielen des § 0 zuwiderlaufe und weil die Klägerin wegen nicht ausgeräumter gewichtiger Zweifel an ihrer Zuverlässigkeit nicht die Gewähr für einen ordnungsgemäßen Spielhallenbetrieb biete . Vor dem Hintergrund der Dauer, des Gewichts, der Vielfalt und der Intensität der zahlreichen im angegriffenen Bescheid und vom Verwaltungsgericht im Einzelnen aufgeführten Verstöße gegen glücksspielrechtliche Vorschriften sei nicht zu erwarten, dass die Spielhalle der Klägerin künftig in Einklang mit den rechtlichen Vorgaben betrieben werde. Über einen Zeitraum, der sich über mehrere Jahre erstrecke, sei das betriebliche Gewinnstreben beharrlich über die Einhaltung verschiedener spielerschützender Vorschriften gestellt worden. Dabei seien etwa mit den hartnäckigen Verweisen auf das vermeintlich keiner spielhallenrechtlichen Sperrzeit unterliegende „Bistro“ erhebliche Anstrengungen unternommen worden, um die Rechtsbrüche vorsätzlich zu verschleiern. Für eine nachhaltige Abstellung dieses hartnäckigen Fehlverhaltens durch die Klägerin fehle es an jeglichen Anhaltspunkten. Die Klägerin biete für eine solche Besserung vielmehr schon deswegen keine Gewähr, weil sie offensichtlich tatsächlich keinen nennenswerten Einfluss auf die Betriebsführung habe, sondern nur formal als Betreiberin vorgeschoben werde. In der Antragsbegründung fehlt es an jeglichen Ausführungen zu der ausführlichen Würdigung des Verwaltungsgerichts, die sich im Einzelnen mit dem erstinstanzlichen Sachvortrag der Klägerin auseinandersetzen. Durch den bloßen Hinweis auf diesen Sachvortrag und den „immensen Zeitablauf“ wird die Richtigkeit der Ausführungen des Verwaltungsgerichts nicht erschüttert.'}"
      ]
     },
     "execution_count": 7,
     "metadata": {},
     "output_type": "execute_result"
    }
   ],
   "source": [
    "corpus[0]"
   ]
  },
  {
   "cell_type": "code",
   "execution_count": 8,
   "metadata": {},
   "outputs": [
    {
     "data": {
      "text/plain": [
       "{'_id': 'q1',\n",
       " 'title': '',\n",
       " 'text': 'Die Antragsgegnerin kann den mit der Ordnungsverfügung vom [DATE] verfügten Widerruf und die Verpflichtung zur Herausgabe der Erlaubnisurkunde gegenüber der Antragstellerin im maßgeblichen Zeitpunkt der Behördenentscheidung'}"
      ]
     },
     "execution_count": 8,
     "metadata": {},
     "output_type": "execute_result"
    }
   ],
   "source": [
    "queries[0]"
   ]
  },
  {
   "cell_type": "code",
   "execution_count": 11,
   "metadata": {},
   "outputs": [
    {
     "data": {
      "text/plain": [
       "{'_id': 'q16', 'title': '', 'text': 'c93640'}"
      ]
     },
     "execution_count": 11,
     "metadata": {},
     "output_type": "execute_result"
    }
   ],
   "source": [
    "qrels[2]"
   ]
  },
  {
   "cell_type": "code",
   "execution_count": 2,
   "metadata": {},
   "outputs": [],
   "source": [
    "import pickle"
   ]
  },
  {
   "cell_type": "code",
   "execution_count": 3,
   "metadata": {},
   "outputs": [],
   "source": [
    "with open(\"../data/pageviews/gathered_views_2015.pkl\", \"rb\") as f:\n",
    "   views = pickle.load(f)\n",
    "\n"
   ]
  },
  {
   "cell_type": "code",
   "execution_count": 6,
   "metadata": {},
   "outputs": [
    {
     "ename": "AuthenticationError",
     "evalue": "digest sent was rejected",
     "output_type": "error",
     "traceback": [
      "\u001b[0;31m---------------------------------------------------------------------------\u001b[0m",
      "\u001b[0;31mAuthenticationError\u001b[0m                       Traceback (most recent call last)",
      "Cell \u001b[0;32mIn[6], line 2\u001b[0m\n\u001b[1;32m      1\u001b[0m \u001b[38;5;28;01mwith\u001b[39;00m \u001b[38;5;28mopen\u001b[39m(\u001b[38;5;124m\"\u001b[39m\u001b[38;5;124m../data/pageviews/combined_views_2015.pkl\u001b[39m\u001b[38;5;124m\"\u001b[39m, \u001b[38;5;124m\"\u001b[39m\u001b[38;5;124mrb\u001b[39m\u001b[38;5;124m\"\u001b[39m) \u001b[38;5;28;01mas\u001b[39;00m f:\n\u001b[0;32m----> 2\u001b[0m    combined_views \u001b[38;5;241m=\u001b[39m \u001b[43mpickle\u001b[49m\u001b[38;5;241;43m.\u001b[39;49m\u001b[43mload\u001b[49m\u001b[43m(\u001b[49m\u001b[43mf\u001b[49m\u001b[43m)\u001b[49m\n",
      "File \u001b[0;32m~/miniforge3/envs/py3.11/lib/python3.11/multiprocessing/managers.py:946\u001b[0m, in \u001b[0;36mRebuildProxy\u001b[0;34m(func, token, serializer, kwds)\u001b[0m\n\u001b[1;32m    940\u001b[0m         server\u001b[38;5;241m.\u001b[39mid_to_local_proxy_obj[token\u001b[38;5;241m.\u001b[39mid] \u001b[38;5;241m=\u001b[39m \\\n\u001b[1;32m    941\u001b[0m             server\u001b[38;5;241m.\u001b[39mid_to_obj[token\u001b[38;5;241m.\u001b[39mid]\n\u001b[1;32m    942\u001b[0m incref \u001b[38;5;241m=\u001b[39m (\n\u001b[1;32m    943\u001b[0m     kwds\u001b[38;5;241m.\u001b[39mpop(\u001b[38;5;124m'\u001b[39m\u001b[38;5;124mincref\u001b[39m\u001b[38;5;124m'\u001b[39m, \u001b[38;5;28;01mTrue\u001b[39;00m) \u001b[38;5;129;01mand\u001b[39;00m\n\u001b[1;32m    944\u001b[0m     \u001b[38;5;129;01mnot\u001b[39;00m \u001b[38;5;28mgetattr\u001b[39m(process\u001b[38;5;241m.\u001b[39mcurrent_process(), \u001b[38;5;124m'\u001b[39m\u001b[38;5;124m_inheriting\u001b[39m\u001b[38;5;124m'\u001b[39m, \u001b[38;5;28;01mFalse\u001b[39;00m)\n\u001b[1;32m    945\u001b[0m     )\n\u001b[0;32m--> 946\u001b[0m \u001b[38;5;28;01mreturn\u001b[39;00m \u001b[43mfunc\u001b[49m\u001b[43m(\u001b[49m\u001b[43mtoken\u001b[49m\u001b[43m,\u001b[49m\u001b[43m \u001b[49m\u001b[43mserializer\u001b[49m\u001b[43m,\u001b[49m\u001b[43m \u001b[49m\u001b[43mincref\u001b[49m\u001b[38;5;241;43m=\u001b[39;49m\u001b[43mincref\u001b[49m\u001b[43m,\u001b[49m\u001b[43m \u001b[49m\u001b[38;5;241;43m*\u001b[39;49m\u001b[38;5;241;43m*\u001b[39;49m\u001b[43mkwds\u001b[49m\u001b[43m)\u001b[49m\n",
      "File \u001b[0;32m~/miniforge3/envs/py3.11/lib/python3.11/multiprocessing/managers.py:796\u001b[0m, in \u001b[0;36mBaseProxy.__init__\u001b[0;34m(self, token, serializer, manager, authkey, exposed, incref, manager_owned)\u001b[0m\n\u001b[1;32m    793\u001b[0m     \u001b[38;5;28mself\u001b[39m\u001b[38;5;241m.\u001b[39m_authkey \u001b[38;5;241m=\u001b[39m process\u001b[38;5;241m.\u001b[39mcurrent_process()\u001b[38;5;241m.\u001b[39mauthkey\n\u001b[1;32m    795\u001b[0m \u001b[38;5;28;01mif\u001b[39;00m incref:\n\u001b[0;32m--> 796\u001b[0m     \u001b[38;5;28;43mself\u001b[39;49m\u001b[38;5;241;43m.\u001b[39;49m\u001b[43m_incref\u001b[49m\u001b[43m(\u001b[49m\u001b[43m)\u001b[49m\n\u001b[1;32m    798\u001b[0m util\u001b[38;5;241m.\u001b[39mregister_after_fork(\u001b[38;5;28mself\u001b[39m, BaseProxy\u001b[38;5;241m.\u001b[39m_after_fork)\n",
      "File \u001b[0;32m~/miniforge3/envs/py3.11/lib/python3.11/multiprocessing/managers.py:850\u001b[0m, in \u001b[0;36mBaseProxy._incref\u001b[0;34m(self)\u001b[0m\n\u001b[1;32m    847\u001b[0m     util\u001b[38;5;241m.\u001b[39mdebug(\u001b[38;5;124m'\u001b[39m\u001b[38;5;124mowned_by_manager skipped INCREF of \u001b[39m\u001b[38;5;132;01m%r\u001b[39;00m\u001b[38;5;124m'\u001b[39m, \u001b[38;5;28mself\u001b[39m\u001b[38;5;241m.\u001b[39m_token\u001b[38;5;241m.\u001b[39mid)\n\u001b[1;32m    848\u001b[0m     \u001b[38;5;28;01mreturn\u001b[39;00m\n\u001b[0;32m--> 850\u001b[0m conn \u001b[38;5;241m=\u001b[39m \u001b[38;5;28;43mself\u001b[39;49m\u001b[38;5;241;43m.\u001b[39;49m\u001b[43m_Client\u001b[49m\u001b[43m(\u001b[49m\u001b[38;5;28;43mself\u001b[39;49m\u001b[38;5;241;43m.\u001b[39;49m\u001b[43m_token\u001b[49m\u001b[38;5;241;43m.\u001b[39;49m\u001b[43maddress\u001b[49m\u001b[43m,\u001b[49m\u001b[43m \u001b[49m\u001b[43mauthkey\u001b[49m\u001b[38;5;241;43m=\u001b[39;49m\u001b[38;5;28;43mself\u001b[39;49m\u001b[38;5;241;43m.\u001b[39;49m\u001b[43m_authkey\u001b[49m\u001b[43m)\u001b[49m\n\u001b[1;32m    851\u001b[0m dispatch(conn, \u001b[38;5;28;01mNone\u001b[39;00m, \u001b[38;5;124m'\u001b[39m\u001b[38;5;124mincref\u001b[39m\u001b[38;5;124m'\u001b[39m, (\u001b[38;5;28mself\u001b[39m\u001b[38;5;241m.\u001b[39m_id,))\n\u001b[1;32m    852\u001b[0m util\u001b[38;5;241m.\u001b[39mdebug(\u001b[38;5;124m'\u001b[39m\u001b[38;5;124mINCREF \u001b[39m\u001b[38;5;132;01m%r\u001b[39;00m\u001b[38;5;124m'\u001b[39m, \u001b[38;5;28mself\u001b[39m\u001b[38;5;241m.\u001b[39m_token\u001b[38;5;241m.\u001b[39mid)\n",
      "File \u001b[0;32m~/miniforge3/envs/py3.11/lib/python3.11/multiprocessing/connection.py:525\u001b[0m, in \u001b[0;36mClient\u001b[0;34m(address, family, authkey)\u001b[0m\n\u001b[1;32m    522\u001b[0m     \u001b[38;5;28;01mraise\u001b[39;00m \u001b[38;5;167;01mTypeError\u001b[39;00m(\u001b[38;5;124m'\u001b[39m\u001b[38;5;124mauthkey should be a byte string\u001b[39m\u001b[38;5;124m'\u001b[39m)\n\u001b[1;32m    524\u001b[0m \u001b[38;5;28;01mif\u001b[39;00m authkey \u001b[38;5;129;01mis\u001b[39;00m \u001b[38;5;129;01mnot\u001b[39;00m \u001b[38;5;28;01mNone\u001b[39;00m:\n\u001b[0;32m--> 525\u001b[0m     \u001b[43manswer_challenge\u001b[49m\u001b[43m(\u001b[49m\u001b[43mc\u001b[49m\u001b[43m,\u001b[49m\u001b[43m \u001b[49m\u001b[43mauthkey\u001b[49m\u001b[43m)\u001b[49m\n\u001b[1;32m    526\u001b[0m     deliver_challenge(c, authkey)\n\u001b[1;32m    528\u001b[0m \u001b[38;5;28;01mreturn\u001b[39;00m c\n",
      "File \u001b[0;32m~/miniforge3/envs/py3.11/lib/python3.11/multiprocessing/connection.py:776\u001b[0m, in \u001b[0;36manswer_challenge\u001b[0;34m(connection, authkey)\u001b[0m\n\u001b[1;32m    774\u001b[0m response \u001b[38;5;241m=\u001b[39m connection\u001b[38;5;241m.\u001b[39mrecv_bytes(\u001b[38;5;241m256\u001b[39m)        \u001b[38;5;66;03m# reject large message\u001b[39;00m\n\u001b[1;32m    775\u001b[0m \u001b[38;5;28;01mif\u001b[39;00m response \u001b[38;5;241m!=\u001b[39m WELCOME:\n\u001b[0;32m--> 776\u001b[0m     \u001b[38;5;28;01mraise\u001b[39;00m AuthenticationError(\u001b[38;5;124m'\u001b[39m\u001b[38;5;124mdigest sent was rejected\u001b[39m\u001b[38;5;124m'\u001b[39m)\n",
      "\u001b[0;31mAuthenticationError\u001b[0m: digest sent was rejected"
     ]
    }
   ],
   "source": [
    "with open(\"../data/pageviews/combined_views_2015.pkl\", \"rb\") as f:\n",
    "   combined_views = pickle.load(f)"
   ]
  },
  {
   "cell_type": "code",
   "execution_count": 4,
   "metadata": {},
   "outputs": [
    {
     "data": {
      "text/plain": [
       "{'de': {}}"
      ]
     },
     "execution_count": 4,
     "metadata": {},
     "output_type": "execute_result"
    }
   ],
   "source": [
    "combined_views"
   ]
  },
  {
   "cell_type": "code",
   "execution_count": null,
   "metadata": {},
   "outputs": [],
   "source": []
  }
 ],
 "metadata": {
  "kernelspec": {
   "display_name": "mmteb-wiki-NBRrHnH0-py3.11",
   "language": "python",
   "name": "python3"
  },
  "language_info": {
   "codemirror_mode": {
    "name": "ipython",
    "version": 3
   },
   "file_extension": ".py",
   "mimetype": "text/x-python",
   "name": "python",
   "nbconvert_exporter": "python",
   "pygments_lexer": "ipython3",
   "version": "3.11.9"
  }
 },
 "nbformat": 4,
 "nbformat_minor": 2
}
