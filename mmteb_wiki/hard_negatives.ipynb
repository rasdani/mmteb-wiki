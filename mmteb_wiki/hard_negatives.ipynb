{
 "cells": [
  {
   "cell_type": "code",
   "execution_count": 1,
   "metadata": {},
   "outputs": [],
   "source": [
    "from datasets import load_dataset"
   ]
  },
  {
   "cell_type": "code",
   "execution_count": 6,
   "metadata": {},
   "outputs": [
    {
     "name": "stderr",
     "output_type": "stream",
     "text": [
      "/home/daniel/.cache/pypoetry/virtualenvs/mmteb-wiki-NBRrHnH0-py3.11/lib/python3.11/site-packages/datasets/load.py:1461: FutureWarning: The repository for jinaai/ger_da_lir contains custom code which must be executed to correctly load the dataset. You can inspect the repository content at https://hf.co/datasets/jinaai/ger_da_lir\n",
      "You can avoid this message in future by passing the argument `trust_remote_code=True`.\n",
      "Passing `trust_remote_code=True` will be mandatory to load this dataset from the next major release of `datasets`.\n",
      "  warnings.warn(\n",
      "Repo card metadata block was not found. Setting CardData to empty.\n",
      "Repo card metadata block was not found. Setting CardData to empty.\n",
      "Repo card metadata block was not found. Setting CardData to empty.\n"
     ]
    },
    {
     "name": "stdout",
     "output_type": "stream",
     "text": [
      "Dataset({\n",
      "    features: ['_id', 'title', 'text'],\n",
      "    num_rows: 131445\n",
      "})\n",
      "Dataset({\n",
      "    features: ['_id', 'title', 'text'],\n",
      "    num_rows: 12298\n",
      "})\n",
      "Dataset({\n",
      "    features: ['_id', 'title', 'text'],\n",
      "    num_rows: 12298\n",
      "})\n"
     ]
    }
   ],
   "source": [
    "corpus = load_dataset(\"jinaai/ger_da_lir\", \"corpus\", split=\"test\")\n",
    "queries = load_dataset(\"jinaai/ger_da_lir\", \"queries\", split=\"test\")\n",
    "qrels = load_dataset(\"jinaai/ger_da_lir\", \"qrels\", split=\"test\")\n",
    "print(corpus)\n",
    "print(queries)\n",
    "print(qrels)\n",
    "\n"
   ]
  },
  {
   "cell_type": "code",
   "execution_count": 7,
   "metadata": {},
   "outputs": [
    {
     "data": {
      "text/plain": [
       "{'_id': 'c1',\n",
       " 'title': '',\n",
       " 'text': 'Tenor Der Antrag der Klägerin auf Zulassung der Berufung gegen das Urteil des Verwaltungsgerichts Gelsenkirchen vom [DATE] wird abgelehnt. Die Klägerin trägt die Kosten des Zulassungsverfahrens. Der Streitwert wird auch für das Zulassungsverfahren auf 0 Euro festgesetzt. Gründe: Das Zulassungsvorbringen der Klägerin begründet keine ernstlichen Zweifel an der Richtigkeit des angefochtenen Urteils . Zweifel in diesem Sinn sind anzunehmen, wenn ein einzelner tragender Rechtssatz oder eine einzelne erhebliche Tatsachenfeststellung des Verwaltungsgerichts mit schlüssigen Gegenargumenten in Frage gestellt werden. Daran fehlt es hier. Die Antragsbegründung, wonach die Klägerin entgegen den Ausführungen im angefochtenen Urteil zuverlässig sei und die Urteilsausführungen insbesondere aufgrund des immensen Zeitablaufs, der seit den letzten Verstößen vergangen sei, nicht geeignet seien, an der Zuverlässigkeit der Klägerin zu zweifeln, enthält kein schlüssiges Gegenargument, das die tragenden Ausführungen des Verwaltungsgerichts in Frage zu stellen geeignet ist. Danach sei die Erlaubnis schon deshalb zu versagen, weil der Betrieb der in Rede stehenden Spielhalle im Sinne von [REF] den Zielen des § 0 zuwiderlaufe und weil die Klägerin wegen nicht ausgeräumter gewichtiger Zweifel an ihrer Zuverlässigkeit nicht die Gewähr für einen ordnungsgemäßen Spielhallenbetrieb biete . Vor dem Hintergrund der Dauer, des Gewichts, der Vielfalt und der Intensität der zahlreichen im angegriffenen Bescheid und vom Verwaltungsgericht im Einzelnen aufgeführten Verstöße gegen glücksspielrechtliche Vorschriften sei nicht zu erwarten, dass die Spielhalle der Klägerin künftig in Einklang mit den rechtlichen Vorgaben betrieben werde. Über einen Zeitraum, der sich über mehrere Jahre erstrecke, sei das betriebliche Gewinnstreben beharrlich über die Einhaltung verschiedener spielerschützender Vorschriften gestellt worden. Dabei seien etwa mit den hartnäckigen Verweisen auf das vermeintlich keiner spielhallenrechtlichen Sperrzeit unterliegende „Bistro“ erhebliche Anstrengungen unternommen worden, um die Rechtsbrüche vorsätzlich zu verschleiern. Für eine nachhaltige Abstellung dieses hartnäckigen Fehlverhaltens durch die Klägerin fehle es an jeglichen Anhaltspunkten. Die Klägerin biete für eine solche Besserung vielmehr schon deswegen keine Gewähr, weil sie offensichtlich tatsächlich keinen nennenswerten Einfluss auf die Betriebsführung habe, sondern nur formal als Betreiberin vorgeschoben werde. In der Antragsbegründung fehlt es an jeglichen Ausführungen zu der ausführlichen Würdigung des Verwaltungsgerichts, die sich im Einzelnen mit dem erstinstanzlichen Sachvortrag der Klägerin auseinandersetzen. Durch den bloßen Hinweis auf diesen Sachvortrag und den „immensen Zeitablauf“ wird die Richtigkeit der Ausführungen des Verwaltungsgerichts nicht erschüttert.'}"
      ]
     },
     "execution_count": 7,
     "metadata": {},
     "output_type": "execute_result"
    }
   ],
   "source": [
    "corpus[0]"
   ]
  },
  {
   "cell_type": "code",
   "execution_count": 8,
   "metadata": {},
   "outputs": [
    {
     "data": {
      "text/plain": [
       "{'_id': 'q1',\n",
       " 'title': '',\n",
       " 'text': 'Die Antragsgegnerin kann den mit der Ordnungsverfügung vom [DATE] verfügten Widerruf und die Verpflichtung zur Herausgabe der Erlaubnisurkunde gegenüber der Antragstellerin im maßgeblichen Zeitpunkt der Behördenentscheidung'}"
      ]
     },
     "execution_count": 8,
     "metadata": {},
     "output_type": "execute_result"
    }
   ],
   "source": [
    "queries[0]"
   ]
  },
  {
   "cell_type": "code",
   "execution_count": 11,
   "metadata": {},
   "outputs": [
    {
     "data": {
      "text/plain": [
       "{'_id': 'q16', 'title': '', 'text': 'c93640'}"
      ]
     },
     "execution_count": 11,
     "metadata": {},
     "output_type": "execute_result"
    }
   ],
   "source": [
    "qrels[2]"
   ]
  },
  {
   "cell_type": "code",
   "execution_count": null,
   "metadata": {},
   "outputs": [],
   "source": []
  }
 ],
 "metadata": {
  "kernelspec": {
   "display_name": "mmteb-wiki-NBRrHnH0-py3.11",
   "language": "python",
   "name": "python3"
  },
  "language_info": {
   "codemirror_mode": {
    "name": "ipython",
    "version": 3
   },
   "file_extension": ".py",
   "mimetype": "text/x-python",
   "name": "python",
   "nbconvert_exporter": "python",
   "pygments_lexer": "ipython3",
   "version": "3.11.9"
  }
 },
 "nbformat": 4,
 "nbformat_minor": 2
}
