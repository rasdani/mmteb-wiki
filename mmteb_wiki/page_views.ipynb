{
 "cells": [
  {
   "cell_type": "code",
   "execution_count": 1,
   "metadata": {},
   "outputs": [
    {
     "name": "stdout",
     "output_type": "stream",
     "text": [
      "/Users/rasdani/git/mmteb-wiki/mmteb_wiki\n"
     ]
    }
   ],
   "source": [
    "!pwd"
   ]
  },
  {
   "cell_type": "code",
   "execution_count": 1,
   "metadata": {},
   "outputs": [],
   "source": [
    "import requests\n",
    "import os\n",
    "from datetime import datetime, timedelta\n",
    "import random\n",
    "import time\n",
    "import json"
   ]
  },
  {
   "cell_type": "code",
   "execution_count": null,
   "metadata": {},
   "outputs": [],
   "source": [
    "\n",
    "def download_pageviews(year):\n",
    "    base_url = \"https://dumps.wikimedia.org/other/pageviews/\"\n",
    "    start_date = datetime(year, 1, 1)\n",
    "    end_date = datetime(year + 1, 1, 1)\n",
    "\n",
    "    current_date = start_date\n",
    "    while current_date < end_date:\n",
    "        year_str = current_date.strftime('%Y')\n",
    "        month_str = current_date.strftime('%m')\n",
    "        day_str = current_date.strftime('%d')\n",
    "        \n",
    "        # Select one random hour\n",
    "        hour_str = f\"{random.randint(0, 23):02}\"\n",
    "        url = f\"{base_url}{year_str}/{year_str}-{month_str}/pageviews-{year_str}{month_str}{day_str}-{hour_str}0000.gz\"\n",
    "        response = requests.get(url, stream=True)\n",
    "        if response.status_code == 200:\n",
    "            dir_path = f\"../data/pageviews/{year_str}/{year_str}-{month_str}\"\n",
    "            if not os.path.exists(dir_path):\n",
    "                os.makedirs(dir_path)\n",
    "            file_path = f\"../data/pageviews/{year_str}/{year_str}-{month_str}/pageviews-{year_str}{month_str}{day_str}-{hour_str}0000.gz\"\n",
    "            with open(file_path, 'wb') as f:\n",
    "                f.write(response.raw.read())\n",
    "            print(f\"Downloaded {file_path}\")\n",
    "        else:\n",
    "            print(f\"Failed to download data for {url}\")\n",
    "\n",
    "        current_date += timedelta(days=1)\n",
    "\n",
    "# Example usage\n",
    "download_pageviews(2024)"
   ]
  },
  {
   "cell_type": "code",
   "execution_count": 11,
   "metadata": {},
   "outputs": [
    {
     "name": "stderr",
     "output_type": "stream",
     "text": [
      "100%|██████████| 1/1 [00:04<00:00,  4.97s/it]\n"
     ]
    }
   ],
   "source": [
    "import gzip\n",
    "import sys\n",
    "from collections import Counter, defaultdict\n",
    "import math\n",
    "import tqdm\n",
    "import json\n",
    "\n",
    "\n",
    "title_views = {}\n",
    "\n",
    "#Score: Harmonic mean  (View_Day_1 * View_Day_2 * View_day_3)\n",
    "# Add log for better numerical stabilitiy\n",
    "# Add +1 to avoid log(0)\n",
    "# Compare the sum, so that days without view are counted as 0 views\n",
    "file_paths = [\"../data/pageviews/2024/2024-01/pageviews-20240101-090000.gz\"]\n",
    "for filepath in tqdm.tqdm(file_paths):\n",
    "    with gzip.open(filepath, \"rt\") as fIn:\n",
    "        \n",
    "        with open(filepath.replace(\".gz\", \".json\"), \"wt\") as fOut:\n",
    "            fOut.write(json.dumps(title_views))\n",
    "\n",
    "        for line in fIn:\n",
    "            splits = line.strip().split()\n",
    "            if len(splits) == 4:\n",
    "                lang, title, views, _ = line.strip().split()\n",
    "                if lang == '\"\"':\n",
    "                    continue\n",
    "                lang = lang.lower()\n",
    "\n",
    "                if lang.endswith(\".m\"): #Add mobile page scores to main score\n",
    "                    lang = lang[0:-2]\n",
    "                \n",
    "                if lang.count(\".\") > 0:\n",
    "                    continue\n",
    "\n",
    "                if lang not in title_views:\n",
    "                    title_views[lang] = {}\n",
    "                if title not in title_views[lang]:\n",
    "                    title_views[lang][title] = 0.0\n",
    "\n",
    "                title_views[lang][title] += math.log(int(views)+1)\n",
    "\n",
    "\n",
    "\n",
    "#Save results\n",
    "for lang in title_views:\n",
    "    dir_path = f\"../data/pageviews_summary\"\n",
    "    if not os.path.exists(dir_path):\n",
    "        os.makedirs(dir_path)\n",
    "    with open(f\"{dir_path}/{lang}.json\", \"w\") as fOut:\n",
    "        fOut.write(json.dumps(title_views[lang]))\n",
    "\n"
   ]
  },
  {
   "cell_type": "code",
   "execution_count": 2,
   "metadata": {},
   "outputs": [
    {
     "data": {
      "text/plain": [
       "(239536, 9.9438614466744)"
      ]
     },
     "execution_count": 2,
     "metadata": {},
     "output_type": "execute_result"
    }
   ],
   "source": [
    "with open(\"../data/pageviews_summary/de.json\") as fIn:\n",
    "    pageviews_de = json.load(fIn)\n",
    "\n",
    "len(pageviews_de), pageviews_de[\"Deutschland\"]"
   ]
  },
  {
   "cell_type": "code",
   "execution_count": 3,
   "metadata": {},
   "outputs": [
    {
     "data": {
      "application/vnd.jupyter.widget-view+json": {
       "model_id": "19bcfc61e5f2498b97d13b26f195e0e3",
       "version_major": 2,
       "version_minor": 0
      },
      "text/plain": [
       "Resolving data files:   0%|          | 0/20 [00:00<?, ?it/s]"
      ]
     },
     "metadata": {},
     "output_type": "display_data"
    },
    {
     "data": {
      "application/vnd.jupyter.widget-view+json": {
       "model_id": "9a9def1400214a09b5274066d9f36a33",
       "version_major": 2,
       "version_minor": 0
      },
      "text/plain": [
       "Resolving data files:   0%|          | 0/20 [00:00<?, ?it/s]"
      ]
     },
     "metadata": {},
     "output_type": "display_data"
    },
    {
     "data": {
      "application/vnd.jupyter.widget-view+json": {
       "model_id": "2875f521d14d4e49b0a1a5325b316620",
       "version_major": 2,
       "version_minor": 0
      },
      "text/plain": [
       "Loading dataset shards:   0%|          | 0/20 [00:00<?, ?it/s]"
      ]
     },
     "metadata": {},
     "output_type": "display_data"
    },
    {
     "data": {
      "text/plain": [
       "Dataset({\n",
       "    features: ['_id', 'url', 'title', 'text'],\n",
       "    num_rows: 20772081\n",
       "})"
      ]
     },
     "execution_count": 3,
     "metadata": {},
     "output_type": "execute_result"
    }
   ],
   "source": [
    "from datasets import load_dataset\n",
    "\n",
    "ds = load_dataset(\"rasdani/cohere-wikipedia-2023-11-de\", split=\"train\")\n",
    "ds"
   ]
  },
  {
   "cell_type": "code",
   "execution_count": 9,
   "metadata": {},
   "outputs": [
    {
     "data": {
      "application/vnd.jupyter.widget-view+json": {
       "model_id": "3bdde8ffdfe344039e20cb8ec6dae594",
       "version_major": 2,
       "version_minor": 0
      },
      "text/plain": [
       "Map:   0%|          | 0/20772081 [00:00<?, ? examples/s]"
      ]
     },
     "metadata": {},
     "output_type": "display_data"
    },
    {
     "ename": "KeyboardInterrupt",
     "evalue": "",
     "output_type": "error",
     "traceback": [
      "\u001b[0;31m---------------------------------------------------------------------------\u001b[0m",
      "\u001b[0;31mKeyboardInterrupt\u001b[0m                         Traceback (most recent call last)",
      "Cell \u001b[0;32mIn[9], line 1\u001b[0m\n\u001b[0;32m----> 1\u001b[0m ds_views \u001b[38;5;241m=\u001b[39m \u001b[43mds\u001b[49m\u001b[38;5;241;43m.\u001b[39;49m\u001b[43mmap\u001b[49m\u001b[43m(\u001b[49m\u001b[38;5;28;43;01mlambda\u001b[39;49;00m\u001b[43m \u001b[49m\u001b[43mx\u001b[49m\u001b[43m:\u001b[49m\u001b[43m \u001b[49m\u001b[43m{\u001b[49m\u001b[38;5;124;43m\"\u001b[39;49m\u001b[38;5;124;43mviews\u001b[39;49m\u001b[38;5;124;43m\"\u001b[39;49m\u001b[43m:\u001b[49m\u001b[43m \u001b[49m\u001b[43mpageviews_de\u001b[49m\u001b[38;5;241;43m.\u001b[39;49m\u001b[43mget\u001b[49m\u001b[43m(\u001b[49m\u001b[43mx\u001b[49m\u001b[43m[\u001b[49m\u001b[38;5;124;43m\"\u001b[39;49m\u001b[38;5;124;43mtitle\u001b[39;49m\u001b[38;5;124;43m\"\u001b[39;49m\u001b[43m]\u001b[49m\u001b[43m,\u001b[49m\u001b[43m \u001b[49m\u001b[38;5;241;43m0\u001b[39;49m\u001b[43m)\u001b[49m\u001b[43m}\u001b[49m\u001b[43m)\u001b[49m\n\u001b[1;32m      2\u001b[0m ds_views\n",
      "File \u001b[0;32m~/Library/Caches/pypoetry/virtualenvs/mmteb-wiki-qluY0a3S-py3.11/lib/python3.11/site-packages/datasets/arrow_dataset.py:593\u001b[0m, in \u001b[0;36mtransmit_tasks.<locals>.wrapper\u001b[0;34m(*args, **kwargs)\u001b[0m\n\u001b[1;32m    591\u001b[0m     \u001b[38;5;28mself\u001b[39m: \u001b[38;5;124m\"\u001b[39m\u001b[38;5;124mDataset\u001b[39m\u001b[38;5;124m\"\u001b[39m \u001b[38;5;241m=\u001b[39m kwargs\u001b[38;5;241m.\u001b[39mpop(\u001b[38;5;124m\"\u001b[39m\u001b[38;5;124mself\u001b[39m\u001b[38;5;124m\"\u001b[39m)\n\u001b[1;32m    592\u001b[0m \u001b[38;5;66;03m# apply actual function\u001b[39;00m\n\u001b[0;32m--> 593\u001b[0m out: Union[\u001b[38;5;124m\"\u001b[39m\u001b[38;5;124mDataset\u001b[39m\u001b[38;5;124m\"\u001b[39m, \u001b[38;5;124m\"\u001b[39m\u001b[38;5;124mDatasetDict\u001b[39m\u001b[38;5;124m\"\u001b[39m] \u001b[38;5;241m=\u001b[39m \u001b[43mfunc\u001b[49m\u001b[43m(\u001b[49m\u001b[38;5;28;43mself\u001b[39;49m\u001b[43m,\u001b[49m\u001b[43m \u001b[49m\u001b[38;5;241;43m*\u001b[39;49m\u001b[43margs\u001b[49m\u001b[43m,\u001b[49m\u001b[43m \u001b[49m\u001b[38;5;241;43m*\u001b[39;49m\u001b[38;5;241;43m*\u001b[39;49m\u001b[43mkwargs\u001b[49m\u001b[43m)\u001b[49m\n\u001b[1;32m    594\u001b[0m datasets: List[\u001b[38;5;124m\"\u001b[39m\u001b[38;5;124mDataset\u001b[39m\u001b[38;5;124m\"\u001b[39m] \u001b[38;5;241m=\u001b[39m \u001b[38;5;28mlist\u001b[39m(out\u001b[38;5;241m.\u001b[39mvalues()) \u001b[38;5;28;01mif\u001b[39;00m \u001b[38;5;28misinstance\u001b[39m(out, \u001b[38;5;28mdict\u001b[39m) \u001b[38;5;28;01melse\u001b[39;00m [out]\n\u001b[1;32m    595\u001b[0m \u001b[38;5;28;01mfor\u001b[39;00m dataset \u001b[38;5;129;01min\u001b[39;00m datasets:\n\u001b[1;32m    596\u001b[0m     \u001b[38;5;66;03m# Remove task templates if a column mapping of the template is no longer valid\u001b[39;00m\n",
      "File \u001b[0;32m~/Library/Caches/pypoetry/virtualenvs/mmteb-wiki-qluY0a3S-py3.11/lib/python3.11/site-packages/datasets/arrow_dataset.py:558\u001b[0m, in \u001b[0;36mtransmit_format.<locals>.wrapper\u001b[0;34m(*args, **kwargs)\u001b[0m\n\u001b[1;32m    551\u001b[0m self_format \u001b[38;5;241m=\u001b[39m {\n\u001b[1;32m    552\u001b[0m     \u001b[38;5;124m\"\u001b[39m\u001b[38;5;124mtype\u001b[39m\u001b[38;5;124m\"\u001b[39m: \u001b[38;5;28mself\u001b[39m\u001b[38;5;241m.\u001b[39m_format_type,\n\u001b[1;32m    553\u001b[0m     \u001b[38;5;124m\"\u001b[39m\u001b[38;5;124mformat_kwargs\u001b[39m\u001b[38;5;124m\"\u001b[39m: \u001b[38;5;28mself\u001b[39m\u001b[38;5;241m.\u001b[39m_format_kwargs,\n\u001b[1;32m    554\u001b[0m     \u001b[38;5;124m\"\u001b[39m\u001b[38;5;124mcolumns\u001b[39m\u001b[38;5;124m\"\u001b[39m: \u001b[38;5;28mself\u001b[39m\u001b[38;5;241m.\u001b[39m_format_columns,\n\u001b[1;32m    555\u001b[0m     \u001b[38;5;124m\"\u001b[39m\u001b[38;5;124moutput_all_columns\u001b[39m\u001b[38;5;124m\"\u001b[39m: \u001b[38;5;28mself\u001b[39m\u001b[38;5;241m.\u001b[39m_output_all_columns,\n\u001b[1;32m    556\u001b[0m }\n\u001b[1;32m    557\u001b[0m \u001b[38;5;66;03m# apply actual function\u001b[39;00m\n\u001b[0;32m--> 558\u001b[0m out: Union[\u001b[38;5;124m\"\u001b[39m\u001b[38;5;124mDataset\u001b[39m\u001b[38;5;124m\"\u001b[39m, \u001b[38;5;124m\"\u001b[39m\u001b[38;5;124mDatasetDict\u001b[39m\u001b[38;5;124m\"\u001b[39m] \u001b[38;5;241m=\u001b[39m \u001b[43mfunc\u001b[49m\u001b[43m(\u001b[49m\u001b[38;5;28;43mself\u001b[39;49m\u001b[43m,\u001b[49m\u001b[43m \u001b[49m\u001b[38;5;241;43m*\u001b[39;49m\u001b[43margs\u001b[49m\u001b[43m,\u001b[49m\u001b[43m \u001b[49m\u001b[38;5;241;43m*\u001b[39;49m\u001b[38;5;241;43m*\u001b[39;49m\u001b[43mkwargs\u001b[49m\u001b[43m)\u001b[49m\n\u001b[1;32m    559\u001b[0m datasets: List[\u001b[38;5;124m\"\u001b[39m\u001b[38;5;124mDataset\u001b[39m\u001b[38;5;124m\"\u001b[39m] \u001b[38;5;241m=\u001b[39m \u001b[38;5;28mlist\u001b[39m(out\u001b[38;5;241m.\u001b[39mvalues()) \u001b[38;5;28;01mif\u001b[39;00m \u001b[38;5;28misinstance\u001b[39m(out, \u001b[38;5;28mdict\u001b[39m) \u001b[38;5;28;01melse\u001b[39;00m [out]\n\u001b[1;32m    560\u001b[0m \u001b[38;5;66;03m# re-apply format to the output\u001b[39;00m\n",
      "File \u001b[0;32m~/Library/Caches/pypoetry/virtualenvs/mmteb-wiki-qluY0a3S-py3.11/lib/python3.11/site-packages/datasets/arrow_dataset.py:3105\u001b[0m, in \u001b[0;36mDataset.map\u001b[0;34m(self, function, with_indices, with_rank, input_columns, batched, batch_size, drop_last_batch, remove_columns, keep_in_memory, load_from_cache_file, cache_file_name, writer_batch_size, features, disable_nullable, fn_kwargs, num_proc, suffix_template, new_fingerprint, desc)\u001b[0m\n\u001b[1;32m   3099\u001b[0m \u001b[38;5;28;01mif\u001b[39;00m transformed_dataset \u001b[38;5;129;01mis\u001b[39;00m \u001b[38;5;28;01mNone\u001b[39;00m:\n\u001b[1;32m   3100\u001b[0m     \u001b[38;5;28;01mwith\u001b[39;00m hf_tqdm(\n\u001b[1;32m   3101\u001b[0m         unit\u001b[38;5;241m=\u001b[39m\u001b[38;5;124m\"\u001b[39m\u001b[38;5;124m examples\u001b[39m\u001b[38;5;124m\"\u001b[39m,\n\u001b[1;32m   3102\u001b[0m         total\u001b[38;5;241m=\u001b[39mpbar_total,\n\u001b[1;32m   3103\u001b[0m         desc\u001b[38;5;241m=\u001b[39mdesc \u001b[38;5;129;01mor\u001b[39;00m \u001b[38;5;124m\"\u001b[39m\u001b[38;5;124mMap\u001b[39m\u001b[38;5;124m\"\u001b[39m,\n\u001b[1;32m   3104\u001b[0m     ) \u001b[38;5;28;01mas\u001b[39;00m pbar:\n\u001b[0;32m-> 3105\u001b[0m \u001b[43m        \u001b[49m\u001b[38;5;28;43;01mfor\u001b[39;49;00m\u001b[43m \u001b[49m\u001b[43mrank\u001b[49m\u001b[43m,\u001b[49m\u001b[43m \u001b[49m\u001b[43mdone\u001b[49m\u001b[43m,\u001b[49m\u001b[43m \u001b[49m\u001b[43mcontent\u001b[49m\u001b[43m \u001b[49m\u001b[38;5;129;43;01min\u001b[39;49;00m\u001b[43m \u001b[49m\u001b[43mDataset\u001b[49m\u001b[38;5;241;43m.\u001b[39;49m\u001b[43m_map_single\u001b[49m\u001b[43m(\u001b[49m\u001b[38;5;241;43m*\u001b[39;49m\u001b[38;5;241;43m*\u001b[39;49m\u001b[43mdataset_kwargs\u001b[49m\u001b[43m)\u001b[49m\u001b[43m:\u001b[49m\n\u001b[1;32m   3106\u001b[0m \u001b[43m            \u001b[49m\u001b[38;5;28;43;01mif\u001b[39;49;00m\u001b[43m \u001b[49m\u001b[43mdone\u001b[49m\u001b[43m:\u001b[49m\n\u001b[1;32m   3107\u001b[0m \u001b[43m                \u001b[49m\u001b[43mshards_done\u001b[49m\u001b[43m \u001b[49m\u001b[38;5;241;43m+\u001b[39;49m\u001b[38;5;241;43m=\u001b[39;49m\u001b[43m \u001b[49m\u001b[38;5;241;43m1\u001b[39;49m\n",
      "File \u001b[0;32m~/Library/Caches/pypoetry/virtualenvs/mmteb-wiki-qluY0a3S-py3.11/lib/python3.11/site-packages/datasets/arrow_dataset.py:3468\u001b[0m, in \u001b[0;36mDataset._map_single\u001b[0;34m(shard, function, with_indices, with_rank, input_columns, batched, batch_size, drop_last_batch, remove_columns, keep_in_memory, cache_file_name, writer_batch_size, features, disable_nullable, fn_kwargs, new_fingerprint, rank, offset)\u001b[0m\n\u001b[1;32m   3466\u001b[0m         writer\u001b[38;5;241m.\u001b[39mwrite_row(pa\u001b[38;5;241m.\u001b[39mTable\u001b[38;5;241m.\u001b[39mfrom_pandas(example))\n\u001b[1;32m   3467\u001b[0m     \u001b[38;5;28;01melse\u001b[39;00m:\n\u001b[0;32m-> 3468\u001b[0m         \u001b[43mwriter\u001b[49m\u001b[38;5;241;43m.\u001b[39;49m\u001b[43mwrite\u001b[49m\u001b[43m(\u001b[49m\u001b[43mexample\u001b[49m\u001b[43m)\u001b[49m\n\u001b[1;32m   3469\u001b[0m num_examples_progress_update \u001b[38;5;241m+\u001b[39m\u001b[38;5;241m=\u001b[39m \u001b[38;5;241m1\u001b[39m\n\u001b[1;32m   3470\u001b[0m \u001b[38;5;28;01mif\u001b[39;00m time\u001b[38;5;241m.\u001b[39mtime() \u001b[38;5;241m>\u001b[39m _time \u001b[38;5;241m+\u001b[39m config\u001b[38;5;241m.\u001b[39mPBAR_REFRESH_TIME_INTERVAL:\n",
      "File \u001b[0;32m~/Library/Caches/pypoetry/virtualenvs/mmteb-wiki-qluY0a3S-py3.11/lib/python3.11/site-packages/datasets/arrow_writer.py:499\u001b[0m, in \u001b[0;36mArrowWriter.write\u001b[0;34m(self, example, key, writer_batch_size)\u001b[0m\n\u001b[1;32m    496\u001b[0m     \u001b[38;5;66;03m# Re-intializing to empty list for next batch\u001b[39;00m\n\u001b[1;32m    497\u001b[0m     \u001b[38;5;28mself\u001b[39m\u001b[38;5;241m.\u001b[39mhkey_record \u001b[38;5;241m=\u001b[39m []\n\u001b[0;32m--> 499\u001b[0m \u001b[38;5;28;43mself\u001b[39;49m\u001b[38;5;241;43m.\u001b[39;49m\u001b[43mwrite_examples_on_file\u001b[49m\u001b[43m(\u001b[49m\u001b[43m)\u001b[49m\n",
      "File \u001b[0;32m~/Library/Caches/pypoetry/virtualenvs/mmteb-wiki-qluY0a3S-py3.11/lib/python3.11/site-packages/datasets/arrow_writer.py:451\u001b[0m, in \u001b[0;36mArrowWriter.write_examples_on_file\u001b[0;34m(self)\u001b[0m\n\u001b[1;32m    445\u001b[0m     arrays \u001b[38;5;241m=\u001b[39m [row[\u001b[38;5;241m0\u001b[39m][col] \u001b[38;5;28;01mfor\u001b[39;00m row \u001b[38;5;129;01min\u001b[39;00m \u001b[38;5;28mself\u001b[39m\u001b[38;5;241m.\u001b[39mcurrent_examples]\n\u001b[1;32m    446\u001b[0m     arrays \u001b[38;5;241m=\u001b[39m [\n\u001b[1;32m    447\u001b[0m         chunk\n\u001b[1;32m    448\u001b[0m         \u001b[38;5;28;01mfor\u001b[39;00m array \u001b[38;5;129;01min\u001b[39;00m arrays\n\u001b[1;32m    449\u001b[0m         \u001b[38;5;28;01mfor\u001b[39;00m chunk \u001b[38;5;129;01min\u001b[39;00m (array\u001b[38;5;241m.\u001b[39mchunks \u001b[38;5;28;01mif\u001b[39;00m \u001b[38;5;28misinstance\u001b[39m(array, pa\u001b[38;5;241m.\u001b[39mChunkedArray) \u001b[38;5;28;01melse\u001b[39;00m [array])\n\u001b[1;32m    450\u001b[0m     ]\n\u001b[0;32m--> 451\u001b[0m     batch_examples[col] \u001b[38;5;241m=\u001b[39m \u001b[43mpa\u001b[49m\u001b[38;5;241;43m.\u001b[39;49m\u001b[43mconcat_arrays\u001b[49m\u001b[43m(\u001b[49m\u001b[43marrays\u001b[49m\u001b[43m)\u001b[49m\n\u001b[1;32m    452\u001b[0m \u001b[38;5;28;01melse\u001b[39;00m:\n\u001b[1;32m    453\u001b[0m     batch_examples[col] \u001b[38;5;241m=\u001b[39m [\n\u001b[1;32m    454\u001b[0m         row[\u001b[38;5;241m0\u001b[39m][col]\u001b[38;5;241m.\u001b[39mto_pylist()[\u001b[38;5;241m0\u001b[39m] \u001b[38;5;28;01mif\u001b[39;00m \u001b[38;5;28misinstance\u001b[39m(row[\u001b[38;5;241m0\u001b[39m][col], (pa\u001b[38;5;241m.\u001b[39mArray, pa\u001b[38;5;241m.\u001b[39mChunkedArray)) \u001b[38;5;28;01melse\u001b[39;00m row[\u001b[38;5;241m0\u001b[39m][col]\n\u001b[1;32m    455\u001b[0m         \u001b[38;5;28;01mfor\u001b[39;00m row \u001b[38;5;129;01min\u001b[39;00m \u001b[38;5;28mself\u001b[39m\u001b[38;5;241m.\u001b[39mcurrent_examples\n\u001b[1;32m    456\u001b[0m     ]\n",
      "\u001b[0;31mKeyboardInterrupt\u001b[0m: "
     ]
    }
   ],
   "source": [
    "ds_views = ds.map(lambda x: {\"views\": pageviews_de.get(x[\"title\"], 0)})\n",
    "ds_views\n",
    "\n"
   ]
  },
  {
   "cell_type": "code",
   "execution_count": 11,
   "metadata": {},
   "outputs": [
    {
     "data": {
      "application/vnd.jupyter.widget-view+json": {
       "model_id": "40858eb2736646ea9e9b926ded0a023d",
       "version_major": 2,
       "version_minor": 0
      },
      "text/plain": [
       "Filter:   0%|          | 0/211223 [00:00<?, ? examples/s]"
      ]
     },
     "metadata": {},
     "output_type": "display_data"
    },
    {
     "data": {
      "application/vnd.jupyter.widget-view+json": {
       "model_id": "b2cdf57f833d4fb087ada17317da0536",
       "version_major": 2,
       "version_minor": 0
      },
      "text/plain": [
       "Filter:   0%|          | 0/211223 [00:00<?, ? examples/s]"
      ]
     },
     "metadata": {},
     "output_type": "display_data"
    },
    {
     "data": {
      "text/plain": [
       "Dataset({\n",
       "    features: ['_id', 'url', 'title', 'text', 'views'],\n",
       "    num_rows: 107531\n",
       "})"
      ]
     },
     "execution_count": 11,
     "metadata": {},
     "output_type": "execute_result"
    }
   ],
   "source": [
    "ds_views = ds_views.filter(lambda x: x[\"views\"] is not None)\n",
    "ds_views = ds_views.filter(lambda x: x[\"views\"] > 4)\n",
    "ds_views"
   ]
  },
  {
   "cell_type": "code",
   "execution_count": 13,
   "metadata": {},
   "outputs": [
    {
     "data": {
      "text/plain": [
       "{'_id': '20231101.de_70846_70',\n",
       " 'url': 'https://de.wikipedia.org/wiki/Champagner',\n",
       " 'title': 'Champagner',\n",
       " 'text': 'réserve:  Champagner, der mit älteren Jahrgängen derselben Lage vermischt worden ist, in der Regel Bezeichnung für eine gehobene Qualitätsstufe',\n",
       " 'views': 5.41610040220442}"
      ]
     },
     "execution_count": 13,
     "metadata": {},
     "output_type": "execute_result"
    }
   ],
   "source": [
    "ds_views[1000000]"
   ]
  },
  {
   "cell_type": "code",
   "execution_count": 12,
   "metadata": {},
   "outputs": [
    {
     "data": {
      "text/plain": [
       "{'_id': ['20231101.de_15751_0',\n",
       "  '20231101.de_15751_1',\n",
       "  '20231101.de_15751_2',\n",
       "  '20231101.de_15751_3',\n",
       "  '20231101.de_15751_4'],\n",
       " 'url': ['https://de.wikipedia.org/wiki/Neujahr',\n",
       "  'https://de.wikipedia.org/wiki/Neujahr',\n",
       "  'https://de.wikipedia.org/wiki/Neujahr',\n",
       "  'https://de.wikipedia.org/wiki/Neujahr',\n",
       "  'https://de.wikipedia.org/wiki/Neujahr'],\n",
       " 'title': ['Neujahr', 'Neujahr', 'Neujahr', 'Neujahr', 'Neujahr'],\n",
       " 'text': ['Neujahr (auch Neujahrstag) ist der erste Tag des Kalenderjahres. Wegen der teils in einzelnen Kulturen und Religionen unterschiedlichen Zeitrechnungen und damit auch Kalender ist der Jahresbeginn zu unterschiedlichen Zeitpunkten. In nahezu allen Kulturen ist mit ihm ein Neujahrsfest mit dazugehörigen Bräuchen verbunden, oft ist er ein Feiertag. Die Wahl, auf welchen Tag der 1.\\xa0Tag des Kalendersystems fällt, wird Kalenderstil genannt.',\n",
       "  'Auf astronomischer Basis sind Neujahrsdaten für sonnengebundene Kalendersysteme (Solarkalender und Lunisolarkalender), die sich auf längerfristig feste Zeitpunkte wie Winter-/Sommersonnenwende (Solstitien) respektive Durchgang durch den Winter-/Herbstpunkt (Tag-und-Nacht-Gleiche, Äquinoktien), also die Geometrie der Ekliptik beziehen, üblicher als etwa dem Periheldurchgang (maximale Sonnennähe), also Geometrie der Umlaufbahn der Erde. Reine Mondkalender (Lunarkalender) beziehen ihr System auf Ereignisse des [Sonne-]Erde-Mond-Systems (wie Neumond/Vollmond). Die beiden Modelle „wandern“ bezüglich eines Jahresanfangs also zueinander. Zusätzlich tritt wegen der Länge des Sonnenjahres von grob 365¼\\xa0Tagen die Interkalation (Schalttage und ähnliche Überbrückungseinheiten) hinzu, die sich unterschiedlich lösen lässt. Die Wahl des Neujahrstermins an sich ist aber rein willkürlich, und kulturell bedingt, und wird daher Kalenderstil genannt.',\n",
       "  'Der heute international übliche Gregorianische Kalender orientiert sich am Sonnentiefstand der Nordhalbkugel (21.\\xa0Dezember, daher schwankt der Frühlingstermin) und ist dem Sonnenjahr in diesem Sinne um 10\\xa0Tage verschoben (das zugrundeliegende Tropische Jahr für die Jahreslänge wird aber definitorisch heute auf den Frühlingspunkt bezogen, der leichter messbar ist).',\n",
       "  'Genannte Daten sind im folgenden Text entweder das desjenigen Kalendersystems, das behandelt wird, oder das des Gregorianischen Kalenders, dem andere Kalendersysteme- und -stile in Bezug gesetzt sind.',\n",
       "  'Im Jahre 153 v.\\xa0Chr. verlegten die Römer nach ihrem Kalender den Beginn des Amtsjahrs vom 1.\\xa0März auf den 1.\\xa0Januar, auf den Tag des Amtsantrittes der Konsuln. Das Kalenderjahr behielt jedoch weiterhin den Märzstil mit dem 1. März als Jahresbeginn. Erst durch Caesars Kalenderreform (Julianischer Kalender) wurden die ursprünglich angehängten Monate Januar und Februar an den Jahresanfang gesetzt, so dass Kalenderjahr und Amtsjahr am 1. Januar begannen. Damit verloren auch die Zählmonate (September, so viel wie ‚siebter‘; Oktober, ‚der achte‘; November, ‚der neunte‘; Dezember, ‚der zehnte‘) die ihren Namen entsprechenden Positionen. Statt einer Jahreszählung benannten die Römer die Jahre nach den Amtszeiten der Konsuln.'],\n",
       " 'views': [13.027773538092484,\n",
       "  13.027773538092484,\n",
       "  13.027773538092484,\n",
       "  13.027773538092484,\n",
       "  13.027773538092484]}"
      ]
     },
     "execution_count": 12,
     "metadata": {},
     "output_type": "execute_result"
    }
   ],
   "source": [
    "ds_views_sorted = ds_views.sort(\"views\", reverse=True)\n",
    "ds_views_sorted[:5]\n"
   ]
  },
  {
   "cell_type": "code",
   "execution_count": 16,
   "metadata": {},
   "outputs": [
    {
     "data": {
      "text/plain": [
       "Dataset({\n",
       "    features: ['_id', 'url', 'title', 'text', 'views'],\n",
       "    num_rows: 100000\n",
       "})"
      ]
     },
     "execution_count": 16,
     "metadata": {},
     "output_type": "execute_result"
    }
   ],
   "source": [
    "ds_views_top100k = ds_views_sorted.select(range(100000))\n",
    "ds_views_top100k\n"
   ]
  },
  {
   "cell_type": "code",
   "execution_count": 17,
   "metadata": {},
   "outputs": [
    {
     "data": {
      "application/vnd.jupyter.widget-view+json": {
       "model_id": "541a35a091c44c91a67969f2f319ea63",
       "version_major": 2,
       "version_minor": 0
      },
      "text/plain": [
       "Uploading the dataset shards:   0%|          | 0/1 [00:00<?, ?it/s]"
      ]
     },
     "metadata": {},
     "output_type": "display_data"
    },
    {
     "data": {
      "application/vnd.jupyter.widget-view+json": {
       "model_id": "027efcabed734536b506f4413ff993b0",
       "version_major": 2,
       "version_minor": 0
      },
      "text/plain": [
       "Creating parquet from Arrow format:   0%|          | 0/100 [00:00<?, ?ba/s]"
      ]
     },
     "metadata": {},
     "output_type": "display_data"
    },
    {
     "data": {
      "text/plain": [
       "CommitInfo(commit_url='https://huggingface.co/datasets/rasdani/cohere-wikipedia-2023-11-de-top100k-views/commit/844184b8413d099a15de9d20b2f1ef47eef810c7', commit_message='Upload dataset', commit_description='', oid='844184b8413d099a15de9d20b2f1ef47eef810c7', pr_url=None, pr_revision=None, pr_num=None)"
      ]
     },
     "execution_count": 17,
     "metadata": {},
     "output_type": "execute_result"
    }
   ],
   "source": [
    "ds_views_top100k.push_to_hub(\"rasdani/cohere-wikipedia-2023-11-de-top100k-views\")"
   ]
  },
  {
   "cell_type": "code",
   "execution_count": 20,
   "metadata": {},
   "outputs": [
    {
     "data": {
      "text/plain": [
       "title\n",
       "Augsburg              471\n",
       "Russland              458\n",
       "Schweiz               417\n",
       "Düsseldorf            400\n",
       "Pazifikkrieg          385\n",
       "                     ... \n",
       "Bibiza                  2\n",
       "Kolleginnen             2\n",
       "XXX                     1\n",
       "Ayliva/Diskografie      1\n",
       "Repression              1\n",
       "Name: count, Length: 1138, dtype: int64"
      ]
     },
     "execution_count": 20,
     "metadata": {},
     "output_type": "execute_result"
    }
   ],
   "source": [
    "import pandas as pd\n",
    "df = ds_views_top100k.to_pandas()\n",
    "title_counts = df['title'].value_counts()\n",
    "title_counts\n"
   ]
  },
  {
   "cell_type": "code",
   "execution_count": 30,
   "metadata": {},
   "outputs": [
    {
     "data": {
      "text/plain": [
       "130    Silvester\n",
       "131    Silvester\n",
       "132    Silvester\n",
       "133    Silvester\n",
       "134    Silvester\n",
       "135    Silvester\n",
       "136    Silvester\n",
       "137    Silvester\n",
       "138    Silvester\n",
       "139    Silvester\n",
       "Name: title, dtype: object"
      ]
     },
     "execution_count": 30,
     "metadata": {},
     "output_type": "execute_result"
    }
   ],
   "source": [
    "df['title'][130:140]\n",
    "\n"
   ]
  },
  {
   "cell_type": "code",
   "execution_count": 22,
   "metadata": {},
   "outputs": [
    {
     "data": {
      "text/plain": [
       "title\n",
       "Büchelkühn             5\n",
       "Tream                  5\n",
       "Polestar               5\n",
       "Leony                  5\n",
       "Grossstadtgeflüster    4\n",
       "Knallerbse             4\n",
       "Oliebol                4\n",
       "2024                   4\n",
       "Etsy                   4\n",
       "4images                3\n",
       "Grappa                 3\n",
       "UTC−12                 3\n",
       "Xnxx.com               3\n",
       "Holz-Drache            3\n",
       "Sylvester              2\n",
       "Bibiza                 2\n",
       "Kolleginnen            2\n",
       "XXX                    1\n",
       "Ayliva/Diskografie     1\n",
       "Repression             1\n",
       "Name: count, dtype: int64"
      ]
     },
     "execution_count": 22,
     "metadata": {},
     "output_type": "execute_result"
    }
   ],
   "source": [
    "title_counts[-20:]"
   ]
  },
  {
   "cell_type": "code",
   "execution_count": 34,
   "metadata": {},
   "outputs": [
    {
     "data": {
      "text/plain": [
       "title\n",
       "1924                   102\n",
       "1I/ʻOumuamua            29\n",
       "2-Euro-Gedenkmünzen     40\n",
       "2023                    86\n",
       "2024                     4\n",
       "                      ... \n",
       "Äthiopien              168\n",
       "Österreich             370\n",
       "Österreich-Ungarn      185\n",
       "Ötzi                    96\n",
       "Übersetzer              20\n",
       "Length: 1138, dtype: int64"
      ]
     },
     "execution_count": 34,
     "metadata": {},
     "output_type": "execute_result"
    }
   ],
   "source": [
    "collapsed_df = df.groupby('title').size()\n",
    "collapsed_df\n"
   ]
  },
  {
   "cell_type": "code",
   "execution_count": 38,
   "metadata": {},
   "outputs": [
    {
     "data": {
      "text/plain": [
       "417"
      ]
     },
     "execution_count": 38,
     "metadata": {},
     "output_type": "execute_result"
    }
   ],
   "source": [
    "collapsed_df.loc['Schweiz']\n"
   ]
  },
  {
   "cell_type": "code",
   "execution_count": 8,
   "metadata": {},
   "outputs": [
    {
     "name": "stdout",
     "output_type": "stream",
     "text": [
      "('00_Schneider_–_Jagd_auf_Nihil_Baxter', 25.7529347097556)\n",
      "../data/pageviews_summary/2015/06.json\n",
      "('00_Schneider_–_Jagd_auf_Nihil_Baxter', 47.30616434163127)\n",
      "../data/pageviews_summary/2015/07.json\n",
      "('00_Schneider_–_Jagd_auf_Nihil_Baxter', 70.3716681374874)\n",
      "../data/pageviews_summary/2015/08.json\n",
      "('00_Schneider_–_Jagd_auf_Nihil_Baxter', 97.37736581573837)\n",
      "../data/pageviews_summary/2015/09.json\n",
      "('00_Schneider_–_Jagd_auf_Nihil_Baxter', 122.5549363805904)\n",
      "../data/pageviews_summary/2015/10.json\n",
      "('00_Schneider_–_Jagd_auf_Nihil_Baxter', 150.5050956676822)\n",
      "../data/pageviews_summary/2015/11.json\n",
      "('00_Schneider_–_Jagd_auf_Nihil_Baxter', 183.11491332604618)\n",
      "../data/pageviews_summary/2015/12.json\n",
      "('00_Schneider_–_Jagd_auf_Nihil_Baxter', 215.62942080460584)\n"
     ]
    }
   ],
   "source": [
    "dir_path = \"../data/pageviews_summary/2015\"\n",
    "\n",
    "# Iterate through all files in the directory\n",
    "\n",
    "filenames = sorted(os.listdir(dir_path))\n",
    "filenames = [f for f in filenames if f.endswith('.json')]\n",
    "first = filenames[0]\n",
    "file_path = os.path.join(dir_path, first)\n",
    "with open(file_path, 'r') as file:\n",
    "    total_views = json.load(file)\n",
    "    print(list(total_views[\"de\"].items())[100])\n",
    "for filename in filenames[1:]:\n",
    "    file_path = os.path.join(dir_path, filename)\n",
    "    print(file_path)\n",
    "    with open(file_path, 'r') as file:\n",
    "        data = json.load(file)\n",
    "    \n",
    "    for title, views in data[\"de\"].items():\n",
    "        total_views[\"de\"][title] = total_views[\"de\"].get(title, 0) + views\n",
    "    print(list(total_views[\"de\"].items())[100])\n",
    "\n",
    "\n",
    "\n"
   ]
  },
  {
   "cell_type": "code",
   "execution_count": null,
   "metadata": {},
   "outputs": [],
   "source": []
  }
 ],
 "metadata": {
  "kernelspec": {
   "display_name": "mmteb-wiki-qluY0a3S-py3.11",
   "language": "python",
   "name": "python3"
  },
  "language_info": {
   "codemirror_mode": {
    "name": "ipython",
    "version": 3
   },
   "file_extension": ".py",
   "mimetype": "text/x-python",
   "name": "python",
   "nbconvert_exporter": "python",
   "pygments_lexer": "ipython3",
   "version": "3.11.9"
  }
 },
 "nbformat": 4,
 "nbformat_minor": 2
}
