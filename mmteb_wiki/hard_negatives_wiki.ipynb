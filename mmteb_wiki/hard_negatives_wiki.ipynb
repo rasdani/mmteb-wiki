{
 "cells": [
  {
   "cell_type": "code",
   "execution_count": 2,
   "metadata": {},
   "outputs": [],
   "source": [
    "from datasets import Dataset, load_dataset\n",
    "import random"
   ]
  },
  {
   "cell_type": "code",
   "execution_count": 3,
   "metadata": {},
   "outputs": [
    {
     "data": {
      "text/plain": [
       "Dataset({\n",
       "    features: ['_id', 'url', 'title', 'text', 'views'],\n",
       "    num_rows: 100000\n",
       "})"
      ]
     },
     "execution_count": 3,
     "metadata": {},
     "output_type": "execute_result"
    }
   ],
   "source": [
    "ds = load_dataset(\"rasdani/cohere-wikipedia-2023-11-de-top100k-views\", split=\"train\")\n",
    "ds"
   ]
  },
  {
   "cell_type": "code",
   "execution_count": 20,
   "metadata": {},
   "outputs": [
    {
     "data": {
      "text/html": [
       "<div>\n",
       "<style scoped>\n",
       "    .dataframe tbody tr th:only-of-type {\n",
       "        vertical-align: middle;\n",
       "    }\n",
       "\n",
       "    .dataframe tbody tr th {\n",
       "        vertical-align: top;\n",
       "    }\n",
       "\n",
       "    .dataframe thead th {\n",
       "        text-align: right;\n",
       "    }\n",
       "</style>\n",
       "<table border=\"1\" class=\"dataframe\">\n",
       "  <thead>\n",
       "    <tr style=\"text-align: right;\">\n",
       "      <th></th>\n",
       "      <th>title</th>\n",
       "      <th>count</th>\n",
       "    </tr>\n",
       "  </thead>\n",
       "  <tbody>\n",
       "    <tr>\n",
       "      <th>0</th>\n",
       "      <td>Deutschland</td>\n",
       "      <td>245</td>\n",
       "    </tr>\n",
       "    <tr>\n",
       "      <th>1</th>\n",
       "      <td>Österreich</td>\n",
       "      <td>370</td>\n",
       "    </tr>\n",
       "    <tr>\n",
       "      <th>2</th>\n",
       "      <td>Schweiz</td>\n",
       "      <td>417</td>\n",
       "    </tr>\n",
       "    <tr>\n",
       "      <th>3</th>\n",
       "      <td>Berlin</td>\n",
       "      <td>282</td>\n",
       "    </tr>\n",
       "    <tr>\n",
       "      <th>4</th>\n",
       "      <td>XHamster</td>\n",
       "      <td>35</td>\n",
       "    </tr>\n",
       "    <tr>\n",
       "      <th>...</th>\n",
       "      <td>...</td>\n",
       "      <td>...</td>\n",
       "    </tr>\n",
       "    <tr>\n",
       "      <th>849</th>\n",
       "      <td>Sunniten</td>\n",
       "      <td>180</td>\n",
       "    </tr>\n",
       "    <tr>\n",
       "      <th>850</th>\n",
       "      <td>Passau</td>\n",
       "      <td>187</td>\n",
       "    </tr>\n",
       "    <tr>\n",
       "      <th>851</th>\n",
       "      <td>Zoroastrismus</td>\n",
       "      <td>124</td>\n",
       "    </tr>\n",
       "    <tr>\n",
       "      <th>852</th>\n",
       "      <td>DisplayPort</td>\n",
       "      <td>35</td>\n",
       "    </tr>\n",
       "    <tr>\n",
       "      <th>853</th>\n",
       "      <td>Nordirland</td>\n",
       "      <td>23</td>\n",
       "    </tr>\n",
       "  </tbody>\n",
       "</table>\n",
       "<p>854 rows × 2 columns</p>\n",
       "</div>"
      ],
      "text/plain": [
       "             title  count\n",
       "0      Deutschland    245\n",
       "1       Österreich    370\n",
       "2          Schweiz    417\n",
       "3           Berlin    282\n",
       "4         XHamster     35\n",
       "..             ...    ...\n",
       "849       Sunniten    180\n",
       "850         Passau    187\n",
       "851  Zoroastrismus    124\n",
       "852    DisplayPort     35\n",
       "853     Nordirland     23\n",
       "\n",
       "[854 rows x 2 columns]"
      ]
     },
     "execution_count": 20,
     "metadata": {},
     "output_type": "execute_result"
    }
   ],
   "source": [
    "# Convert dataset to pandas DataFrame\n",
    "df = ds.to_pandas()\n",
    "\n",
    "# Group by 'title' and filter groups that have 5 or more paragraphs\n",
    "grouped_df = df.groupby('title', sort=False).size().reset_index(name='count')\n",
    "filtered_df = grouped_df[grouped_df['count'] >= 5]\n",
    "\n",
    "# Display the filtered DataFrame\n",
    "filtered_df\n"
   ]
  },
  {
   "cell_type": "code",
   "execution_count": 26,
   "metadata": {},
   "outputs": [
    {
     "data": {
      "text/plain": [
       "Dataset({\n",
       "    features: ['_id', 'url', 'title', 'text', 'views'],\n",
       "    num_rows: 100000\n",
       "})"
      ]
     },
     "execution_count": 26,
     "metadata": {},
     "output_type": "execute_result"
    }
   ],
   "source": [
    "ds_filtered = ds.filter(lambda x: x['title'] in filtered_df['title'].tolist())\n",
    "ds_filtered"
   ]
  },
  {
   "cell_type": "code",
   "execution_count": 27,
   "metadata": {},
   "outputs": [
    {
     "data": {
      "text/plain": [
       "854"
      ]
     },
     "execution_count": 27,
     "metadata": {},
     "output_type": "execute_result"
    }
   ],
   "source": [
    "len(set(ds[\"title\"]))"
   ]
  },
  {
   "cell_type": "code",
   "execution_count": 28,
   "metadata": {},
   "outputs": [],
   "source": [
    "seed = int.from_bytes(b\"ellamind\") % (2**32)\n",
    "random.seed(seed)"
   ]
  },
  {
   "cell_type": "code",
   "execution_count": 29,
   "metadata": {},
   "outputs": [
    {
     "name": "stderr",
     "output_type": "stream",
     "text": [
      "/tmp/ipykernel_327603/4200073487.py:9: DeprecationWarning: DataFrameGroupBy.apply operated on the grouping columns. This behavior is deprecated, and in a future version of pandas the grouping columns will be excluded from the operation. Either pass `include_groups=False` to exclude the groupings or explicitly select the grouping columns after groupby to silence this warning.\n",
      "  grouped_df = df.groupby('title', sort=False).apply(select_random_window).dropna()\n"
     ]
    },
    {
     "data": {
      "text/plain": [
       "Dataset({\n",
       "    features: ['_id', 'url', 'title', 'text', 'views'],\n",
       "    num_rows: 4270\n",
       "})"
      ]
     },
     "execution_count": 29,
     "metadata": {},
     "output_type": "execute_result"
    }
   ],
   "source": [
    "# Define a function to select a random window of 5 consecutive paragraphs\n",
    "def select_random_window(group):\n",
    "    if len(group) >= 5:\n",
    "        start_index = random.randint(0, len(group) - 5)\n",
    "        return group.iloc[start_index:start_index + 5]\n",
    "    return None\n",
    "\n",
    "# Group by 'title', apply the function, and drop groups with less than 5 paragraphs\n",
    "grouped_df = df.groupby('title', sort=False).apply(select_random_window).dropna()\n",
    "\n",
    "# Convert the filtered DataFrame back to a dataset\n",
    "filtered_ds = Dataset.from_pandas(grouped_df.reset_index(drop=True))\n",
    "\n",
    "# Display the filtered dataset\n",
    "filtered_ds"
   ]
  },
  {
   "cell_type": "code",
   "execution_count": 31,
   "metadata": {},
   "outputs": [
    {
     "name": "stderr",
     "output_type": "stream",
     "text": [
      "/tmp/ipykernel_327603/3953193532.py:13: DeprecationWarning: DataFrameGroupBy.apply operated on the grouping columns. This behavior is deprecated, and in a future version of pandas the grouping columns will be excluded from the operation. Either pass `include_groups=False` to exclude the groupings or explicitly select the grouping columns after groupby to silence this warning.\n",
      "  grouped_df = df.groupby('title', sort=False).apply(assign_scores).dropna().reset_index(drop=True)\n"
     ]
    },
    {
     "data": {
      "text/html": [
       "<div>\n",
       "<style scoped>\n",
       "    .dataframe tbody tr th:only-of-type {\n",
       "        vertical-align: middle;\n",
       "    }\n",
       "\n",
       "    .dataframe tbody tr th {\n",
       "        vertical-align: top;\n",
       "    }\n",
       "\n",
       "    .dataframe thead th {\n",
       "        text-align: right;\n",
       "    }\n",
       "</style>\n",
       "<table border=\"1\" class=\"dataframe\">\n",
       "  <thead>\n",
       "    <tr style=\"text-align: right;\">\n",
       "      <th></th>\n",
       "      <th>_id</th>\n",
       "      <th>url</th>\n",
       "      <th>title</th>\n",
       "      <th>text</th>\n",
       "      <th>views</th>\n",
       "      <th>score</th>\n",
       "    </tr>\n",
       "  </thead>\n",
       "  <tbody>\n",
       "    <tr>\n",
       "      <th>0</th>\n",
       "      <td>20231101.de_1497705_123</td>\n",
       "      <td>https://de.wikipedia.org/wiki/Deutschland</td>\n",
       "      <td>Deutschland</td>\n",
       "      <td>Der Bundestag machte 1991 Berlin zur Hauptstad...</td>\n",
       "      <td>36234.107805</td>\n",
       "      <td>0.5</td>\n",
       "    </tr>\n",
       "    <tr>\n",
       "      <th>1</th>\n",
       "      <td>20231101.de_1497705_124</td>\n",
       "      <td>https://de.wikipedia.org/wiki/Deutschland</td>\n",
       "      <td>Deutschland</td>\n",
       "      <td>Bei der Bundestagswahl 1998 verlor Kohls schwa...</td>\n",
       "      <td>36234.107805</td>\n",
       "      <td>0.5</td>\n",
       "    </tr>\n",
       "    <tr>\n",
       "      <th>2</th>\n",
       "      <td>20231101.de_1497705_125</td>\n",
       "      <td>https://de.wikipedia.org/wiki/Deutschland</td>\n",
       "      <td>Deutschland</td>\n",
       "      <td>Die zweite Amtszeit Schröders ab 2002 war von ...</td>\n",
       "      <td>36234.107805</td>\n",
       "      <td>1.0</td>\n",
       "    </tr>\n",
       "    <tr>\n",
       "      <th>3</th>\n",
       "      <td>20231101.de_1497705_126</td>\n",
       "      <td>https://de.wikipedia.org/wiki/Deutschland</td>\n",
       "      <td>Deutschland</td>\n",
       "      <td>Angela Merkel beendete die letzte ihrer vier A...</td>\n",
       "      <td>36234.107805</td>\n",
       "      <td>0.5</td>\n",
       "    </tr>\n",
       "    <tr>\n",
       "      <th>4</th>\n",
       "      <td>20231101.de_1497705_127</td>\n",
       "      <td>https://de.wikipedia.org/wiki/Deutschland</td>\n",
       "      <td>Deutschland</td>\n",
       "      <td>Der russische Überfall auf die Ukraine 2022 fü...</td>\n",
       "      <td>36234.107805</td>\n",
       "      <td>0.5</td>\n",
       "    </tr>\n",
       "    <tr>\n",
       "      <th>...</th>\n",
       "      <td>...</td>\n",
       "      <td>...</td>\n",
       "      <td>...</td>\n",
       "      <td>...</td>\n",
       "      <td>...</td>\n",
       "      <td>...</td>\n",
       "    </tr>\n",
       "    <tr>\n",
       "      <th>4265</th>\n",
       "      <td>20231101.de_17999_13</td>\n",
       "      <td>https://de.wikipedia.org/wiki/Nordirland</td>\n",
       "      <td>Nordirland</td>\n",
       "      <td>Der Haushalt der nordirischen Regierung, der N...</td>\n",
       "      <td>15544.335947</td>\n",
       "      <td>0.5</td>\n",
       "    </tr>\n",
       "    <tr>\n",
       "      <th>4266</th>\n",
       "      <td>20231101.de_17999_14</td>\n",
       "      <td>https://de.wikipedia.org/wiki/Nordirland</td>\n",
       "      <td>Nordirland</td>\n",
       "      <td>Es gibt zurzeit keine offizielle Flagge Nordir...</td>\n",
       "      <td>15544.335947</td>\n",
       "      <td>0.5</td>\n",
       "    </tr>\n",
       "    <tr>\n",
       "      <th>4267</th>\n",
       "      <td>20231101.de_17999_15</td>\n",
       "      <td>https://de.wikipedia.org/wiki/Nordirland</td>\n",
       "      <td>Nordirland</td>\n",
       "      <td>Lediglich im Sport wird weiter die ehemalige F...</td>\n",
       "      <td>15544.335947</td>\n",
       "      <td>1.0</td>\n",
       "    </tr>\n",
       "    <tr>\n",
       "      <th>4268</th>\n",
       "      <td>20231101.de_17999_16</td>\n",
       "      <td>https://de.wikipedia.org/wiki/Nordirland</td>\n",
       "      <td>Nordirland</td>\n",
       "      <td>Die bedeutendsten politischen Parteien in der ...</td>\n",
       "      <td>15544.335947</td>\n",
       "      <td>0.5</td>\n",
       "    </tr>\n",
       "    <tr>\n",
       "      <th>4269</th>\n",
       "      <td>20231101.de_17999_17</td>\n",
       "      <td>https://de.wikipedia.org/wiki/Nordirland</td>\n",
       "      <td>Nordirland</td>\n",
       "      <td>Am 23. Juni 2016 fand das Referendum über das ...</td>\n",
       "      <td>15544.335947</td>\n",
       "      <td>0.5</td>\n",
       "    </tr>\n",
       "  </tbody>\n",
       "</table>\n",
       "<p>4270 rows × 6 columns</p>\n",
       "</div>"
      ],
      "text/plain": [
       "                          _id                                        url  \\\n",
       "0     20231101.de_1497705_123  https://de.wikipedia.org/wiki/Deutschland   \n",
       "1     20231101.de_1497705_124  https://de.wikipedia.org/wiki/Deutschland   \n",
       "2     20231101.de_1497705_125  https://de.wikipedia.org/wiki/Deutschland   \n",
       "3     20231101.de_1497705_126  https://de.wikipedia.org/wiki/Deutschland   \n",
       "4     20231101.de_1497705_127  https://de.wikipedia.org/wiki/Deutschland   \n",
       "...                       ...                                        ...   \n",
       "4265     20231101.de_17999_13   https://de.wikipedia.org/wiki/Nordirland   \n",
       "4266     20231101.de_17999_14   https://de.wikipedia.org/wiki/Nordirland   \n",
       "4267     20231101.de_17999_15   https://de.wikipedia.org/wiki/Nordirland   \n",
       "4268     20231101.de_17999_16   https://de.wikipedia.org/wiki/Nordirland   \n",
       "4269     20231101.de_17999_17   https://de.wikipedia.org/wiki/Nordirland   \n",
       "\n",
       "            title                                               text  \\\n",
       "0     Deutschland  Der Bundestag machte 1991 Berlin zur Hauptstad...   \n",
       "1     Deutschland  Bei der Bundestagswahl 1998 verlor Kohls schwa...   \n",
       "2     Deutschland  Die zweite Amtszeit Schröders ab 2002 war von ...   \n",
       "3     Deutschland  Angela Merkel beendete die letzte ihrer vier A...   \n",
       "4     Deutschland  Der russische Überfall auf die Ukraine 2022 fü...   \n",
       "...           ...                                                ...   \n",
       "4265   Nordirland  Der Haushalt der nordirischen Regierung, der N...   \n",
       "4266   Nordirland  Es gibt zurzeit keine offizielle Flagge Nordir...   \n",
       "4267   Nordirland  Lediglich im Sport wird weiter die ehemalige F...   \n",
       "4268   Nordirland  Die bedeutendsten politischen Parteien in der ...   \n",
       "4269   Nordirland  Am 23. Juni 2016 fand das Referendum über das ...   \n",
       "\n",
       "             views  score  \n",
       "0     36234.107805    0.5  \n",
       "1     36234.107805    0.5  \n",
       "2     36234.107805    1.0  \n",
       "3     36234.107805    0.5  \n",
       "4     36234.107805    0.5  \n",
       "...            ...    ...  \n",
       "4265  15544.335947    0.5  \n",
       "4266  15544.335947    0.5  \n",
       "4267  15544.335947    1.0  \n",
       "4268  15544.335947    0.5  \n",
       "4269  15544.335947    0.5  \n",
       "\n",
       "[4270 rows x 6 columns]"
      ]
     },
     "execution_count": 31,
     "metadata": {},
     "output_type": "execute_result"
    }
   ],
   "source": [
    "# Convert dataset to pandas DataFrame\n",
    "df = filtered_ds.to_pandas()\n",
    "\n",
    "# Define a function to select a window of 5 consecutive paragraphs and assign scores\n",
    "def assign_scores(group):\n",
    "    if len(group) >= 5:\n",
    "        scores = [0.5, 0.5, 1.0, 0.5, 0.5]  # Scores for the paragraphs\n",
    "        group['score'] = scores\n",
    "        return group\n",
    "    return None\n",
    "\n",
    "# Group by 'title', apply the function, and drop groups with less than 5 paragraphs\n",
    "grouped_df = df.groupby('title', sort=False).apply(assign_scores).dropna().reset_index(drop=True)\n",
    "\n",
    "# Display the DataFrame with the new 'score' column\n",
    "grouped_df"
   ]
  },
  {
   "cell_type": "code",
   "execution_count": 32,
   "metadata": {},
   "outputs": [
    {
     "data": {
      "text/plain": [
       "Dataset({\n",
       "    features: ['_id', 'url', 'title', 'text', 'views', 'score'],\n",
       "    num_rows: 4270\n",
       "})"
      ]
     },
     "execution_count": 32,
     "metadata": {},
     "output_type": "execute_result"
    }
   ],
   "source": [
    "ds_upload = Dataset.from_pandas(grouped_df)\n",
    "ds_upload\n",
    "\n"
   ]
  },
  {
   "cell_type": "code",
   "execution_count": 43,
   "metadata": {},
   "outputs": [
    {
     "data": {
      "text/plain": [
       "{'_id': '20231101.de_1497705_127',\n",
       " 'url': 'https://de.wikipedia.org/wiki/Deutschland',\n",
       " 'title': 'Deutschland',\n",
       " 'text': 'Der russische Überfall auf die Ukraine 2022 führte zu umfassenden Wirtschaftssanktionen des Westens gegen Russland, an denen sich auch Deutschland beteiligte. Unter anderem stoppte Deutschland die Inbetriebnahme der Gaspipeline Nord Stream 2. Die deutsche Wirtschaft, die sich von russischem Gas abhängig gemacht hatte, musste eine starke Teuerung im Energiesektor hinnehmen. Deutschland unterstützte die Ukraine innerhalb des ersten halben Jahres mit Waffen im Wert von mehreren Millionen Euro sowie der Ausbildung ukrainischer Soldaten.',\n",
       " 'views': 36234.107805126274,\n",
       " 'score': 0.5}"
      ]
     },
     "execution_count": 43,
     "metadata": {},
     "output_type": "execute_result"
    }
   ],
   "source": [
    "ds_upload[4]"
   ]
  },
  {
   "cell_type": "code",
   "execution_count": 44,
   "metadata": {},
   "outputs": [
    {
     "data": {
      "application/vnd.jupyter.widget-view+json": {
       "model_id": "1ef3fc3041f54a74b9e8c8d68a9af38c",
       "version_major": 2,
       "version_minor": 0
      },
      "text/plain": [
       "Uploading the dataset shards:   0%|          | 0/1 [00:00<?, ?it/s]"
      ]
     },
     "metadata": {},
     "output_type": "display_data"
    },
    {
     "data": {
      "application/vnd.jupyter.widget-view+json": {
       "model_id": "e2656884933c4a19b576cdea046461f8",
       "version_major": 2,
       "version_minor": 0
      },
      "text/plain": [
       "Creating parquet from Arrow format:   0%|          | 0/5 [00:00<?, ?ba/s]"
      ]
     },
     "metadata": {},
     "output_type": "display_data"
    },
    {
     "data": {
      "text/plain": [
       "CommitInfo(commit_url='https://huggingface.co/datasets/rasdani/cohere-wikipedia-2023-11-de-scores/commit/2f9abf9cd3c51e0c959f195a777a51d7084d5860', commit_message='Upload dataset', commit_description='', oid='2f9abf9cd3c51e0c959f195a777a51d7084d5860', pr_url=None, pr_revision=None, pr_num=None)"
      ]
     },
     "execution_count": 44,
     "metadata": {},
     "output_type": "execute_result"
    }
   ],
   "source": [
    "ds_upload.push_to_hub(\"rasdani/cohere-wikipedia-2023-11-de-scores\")"
   ]
  }
 ],
 "metadata": {
  "kernelspec": {
   "display_name": "mmteb-wiki-NBRrHnH0-py3.11",
   "language": "python",
   "name": "python3"
  },
  "language_info": {
   "codemirror_mode": {
    "name": "ipython",
    "version": 3
   },
   "file_extension": ".py",
   "mimetype": "text/x-python",
   "name": "python",
   "nbconvert_exporter": "python",
   "pygments_lexer": "ipython3",
   "version": "3.11.9"
  }
 },
 "nbformat": 4,
 "nbformat_minor": 2
}
