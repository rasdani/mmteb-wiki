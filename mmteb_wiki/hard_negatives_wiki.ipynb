{
 "cells": [
  {
   "cell_type": "code",
   "execution_count": 3,
   "metadata": {},
   "outputs": [],
   "source": [
    "from datasets import Dataset, load_dataset\n",
    "import random"
   ]
  },
  {
   "cell_type": "code",
   "execution_count": 4,
   "metadata": {},
   "outputs": [
    {
     "data": {
      "application/vnd.jupyter.widget-view+json": {
       "model_id": "9d2cc0f5d5c04c94bd3d8a4c0e340eb2",
       "version_major": 2,
       "version_minor": 0
      },
      "text/plain": [
       "Downloading readme:   0%|          | 0.00/430 [00:00<?, ?B/s]"
      ]
     },
     "metadata": {},
     "output_type": "display_data"
    },
    {
     "name": "stderr",
     "output_type": "stream",
     "text": [
      "Downloading data: 100%|██████████| 57.7M/57.7M [00:02<00:00, 22.8MB/s]\n"
     ]
    },
    {
     "data": {
      "application/vnd.jupyter.widget-view+json": {
       "model_id": "d093926d4999447284349ee80d5e3a58",
       "version_major": 2,
       "version_minor": 0
      },
      "text/plain": [
       "Generating train split:   0%|          | 0/200000 [00:00<?, ? examples/s]"
      ]
     },
     "metadata": {},
     "output_type": "display_data"
    },
    {
     "data": {
      "text/plain": [
       "Dataset({\n",
       "    features: ['_id', 'url', 'title', 'text', 'views'],\n",
       "    num_rows: 200000\n",
       "})"
      ]
     },
     "execution_count": 4,
     "metadata": {},
     "output_type": "execute_result"
    }
   ],
   "source": [
    "# ds = load_dataset(\"rasdani/cohere-wikipedia-2023-11-de-top100k-views\", split=\"train\")\n",
    "ds = load_dataset(\"rasdani/cohere-wikipedia-2023-11-de-top200k-views\", split=\"train\")\n",
    "ds"
   ]
  },
  {
   "cell_type": "code",
   "execution_count": 5,
   "metadata": {},
   "outputs": [
    {
     "data": {
      "text/html": [
       "<div>\n",
       "<style scoped>\n",
       "    .dataframe tbody tr th:only-of-type {\n",
       "        vertical-align: middle;\n",
       "    }\n",
       "\n",
       "    .dataframe tbody tr th {\n",
       "        vertical-align: top;\n",
       "    }\n",
       "\n",
       "    .dataframe thead th {\n",
       "        text-align: right;\n",
       "    }\n",
       "</style>\n",
       "<table border=\"1\" class=\"dataframe\">\n",
       "  <thead>\n",
       "    <tr style=\"text-align: right;\">\n",
       "      <th></th>\n",
       "      <th>title</th>\n",
       "      <th>count</th>\n",
       "    </tr>\n",
       "  </thead>\n",
       "  <tbody>\n",
       "    <tr>\n",
       "      <th>0</th>\n",
       "      <td>Deutschland</td>\n",
       "      <td>245</td>\n",
       "    </tr>\n",
       "    <tr>\n",
       "      <th>1</th>\n",
       "      <td>Österreich</td>\n",
       "      <td>370</td>\n",
       "    </tr>\n",
       "    <tr>\n",
       "      <th>2</th>\n",
       "      <td>Schweiz</td>\n",
       "      <td>417</td>\n",
       "    </tr>\n",
       "    <tr>\n",
       "      <th>3</th>\n",
       "      <td>Berlin</td>\n",
       "      <td>282</td>\n",
       "    </tr>\n",
       "    <tr>\n",
       "      <th>4</th>\n",
       "      <td>XHamster</td>\n",
       "      <td>35</td>\n",
       "    </tr>\n",
       "    <tr>\n",
       "      <th>...</th>\n",
       "      <td>...</td>\n",
       "      <td>...</td>\n",
       "    </tr>\n",
       "    <tr>\n",
       "      <th>2308</th>\n",
       "      <td>Kommunikation</td>\n",
       "      <td>63</td>\n",
       "    </tr>\n",
       "    <tr>\n",
       "      <th>2309</th>\n",
       "      <td>Mangold</td>\n",
       "      <td>13</td>\n",
       "    </tr>\n",
       "    <tr>\n",
       "      <th>2310</th>\n",
       "      <td>Kosaken</td>\n",
       "      <td>67</td>\n",
       "    </tr>\n",
       "    <tr>\n",
       "      <th>2311</th>\n",
       "      <td>Eiger-Nordwand</td>\n",
       "      <td>99</td>\n",
       "    </tr>\n",
       "    <tr>\n",
       "      <th>2312</th>\n",
       "      <td>Villingen-Schwenningen</td>\n",
       "      <td>130</td>\n",
       "    </tr>\n",
       "  </tbody>\n",
       "</table>\n",
       "<p>2308 rows × 2 columns</p>\n",
       "</div>"
      ],
      "text/plain": [
       "                       title  count\n",
       "0                Deutschland    245\n",
       "1                 Österreich    370\n",
       "2                    Schweiz    417\n",
       "3                     Berlin    282\n",
       "4                   XHamster     35\n",
       "...                      ...    ...\n",
       "2308           Kommunikation     63\n",
       "2309                 Mangold     13\n",
       "2310                 Kosaken     67\n",
       "2311          Eiger-Nordwand     99\n",
       "2312  Villingen-Schwenningen    130\n",
       "\n",
       "[2308 rows x 2 columns]"
      ]
     },
     "execution_count": 5,
     "metadata": {},
     "output_type": "execute_result"
    }
   ],
   "source": [
    "# Convert dataset to pandas DataFrame\n",
    "df = ds.to_pandas()\n",
    "\n",
    "# Group by 'title' and filter groups that have 5 or more paragraphs\n",
    "grouped_df = df.groupby('title', sort=False).size().reset_index(name='count')\n",
    "filtered_df = grouped_df[grouped_df['count'] >= 5]\n",
    "\n",
    "# Display the filtered DataFrame\n",
    "filtered_df\n"
   ]
  },
  {
   "cell_type": "code",
   "execution_count": 6,
   "metadata": {},
   "outputs": [
    {
     "data": {
      "application/vnd.jupyter.widget-view+json": {
       "model_id": "c8bd6679fd7f484cbf3643a9f8447192",
       "version_major": 2,
       "version_minor": 0
      },
      "text/plain": [
       "Filter:   0%|          | 0/200000 [00:00<?, ? examples/s]"
      ]
     },
     "metadata": {},
     "output_type": "display_data"
    },
    {
     "data": {
      "text/plain": [
       "Dataset({\n",
       "    features: ['_id', 'url', 'title', 'text', 'views'],\n",
       "    num_rows: 199986\n",
       "})"
      ]
     },
     "execution_count": 6,
     "metadata": {},
     "output_type": "execute_result"
    }
   ],
   "source": [
    "ds_filtered = ds.filter(lambda x: x['title'] in filtered_df['title'].tolist())\n",
    "ds_filtered"
   ]
  },
  {
   "cell_type": "code",
   "execution_count": 7,
   "metadata": {},
   "outputs": [
    {
     "data": {
      "text/plain": [
       "2313"
      ]
     },
     "execution_count": 7,
     "metadata": {},
     "output_type": "execute_result"
    }
   ],
   "source": [
    "len(set(ds[\"title\"]))"
   ]
  },
  {
   "cell_type": "code",
   "execution_count": 8,
   "metadata": {},
   "outputs": [],
   "source": [
    "seed = int.from_bytes(b\"ellamind\") % (2**32)\n",
    "random.seed(seed)"
   ]
  },
  {
   "cell_type": "code",
   "execution_count": 9,
   "metadata": {},
   "outputs": [
    {
     "name": "stderr",
     "output_type": "stream",
     "text": [
      "/tmp/ipykernel_577092/4200073487.py:9: DeprecationWarning: DataFrameGroupBy.apply operated on the grouping columns. This behavior is deprecated, and in a future version of pandas the grouping columns will be excluded from the operation. Either pass `include_groups=False` to exclude the groupings or explicitly select the grouping columns after groupby to silence this warning.\n",
      "  grouped_df = df.groupby('title', sort=False).apply(select_random_window).dropna()\n"
     ]
    },
    {
     "data": {
      "text/plain": [
       "Dataset({\n",
       "    features: ['_id', 'url', 'title', 'text', 'views'],\n",
       "    num_rows: 11540\n",
       "})"
      ]
     },
     "execution_count": 9,
     "metadata": {},
     "output_type": "execute_result"
    }
   ],
   "source": [
    "# Define a function to select a random window of 5 consecutive paragraphs\n",
    "def select_random_window(group):\n",
    "    if len(group) >= 5:\n",
    "        start_index = random.randint(0, len(group) - 5)\n",
    "        return group.iloc[start_index:start_index + 5]\n",
    "    return None\n",
    "\n",
    "# Group by 'title', apply the function, and drop groups with less than 5 paragraphs\n",
    "grouped_df = df.groupby('title', sort=False).apply(select_random_window).dropna()\n",
    "\n",
    "# Convert the filtered DataFrame back to a dataset\n",
    "filtered_ds = Dataset.from_pandas(grouped_df.reset_index(drop=True))\n",
    "\n",
    "# Display the filtered dataset\n",
    "filtered_ds"
   ]
  },
  {
   "cell_type": "code",
   "execution_count": 10,
   "metadata": {},
   "outputs": [
    {
     "name": "stderr",
     "output_type": "stream",
     "text": [
      "/tmp/ipykernel_577092/3953193532.py:13: DeprecationWarning: DataFrameGroupBy.apply operated on the grouping columns. This behavior is deprecated, and in a future version of pandas the grouping columns will be excluded from the operation. Either pass `include_groups=False` to exclude the groupings or explicitly select the grouping columns after groupby to silence this warning.\n",
      "  grouped_df = df.groupby('title', sort=False).apply(assign_scores).dropna().reset_index(drop=True)\n"
     ]
    },
    {
     "data": {
      "text/html": [
       "<div>\n",
       "<style scoped>\n",
       "    .dataframe tbody tr th:only-of-type {\n",
       "        vertical-align: middle;\n",
       "    }\n",
       "\n",
       "    .dataframe tbody tr th {\n",
       "        vertical-align: top;\n",
       "    }\n",
       "\n",
       "    .dataframe thead th {\n",
       "        text-align: right;\n",
       "    }\n",
       "</style>\n",
       "<table border=\"1\" class=\"dataframe\">\n",
       "  <thead>\n",
       "    <tr style=\"text-align: right;\">\n",
       "      <th></th>\n",
       "      <th>_id</th>\n",
       "      <th>url</th>\n",
       "      <th>title</th>\n",
       "      <th>text</th>\n",
       "      <th>views</th>\n",
       "      <th>score</th>\n",
       "    </tr>\n",
       "  </thead>\n",
       "  <tbody>\n",
       "    <tr>\n",
       "      <th>0</th>\n",
       "      <td>20231101.de_1497705_123</td>\n",
       "      <td>https://de.wikipedia.org/wiki/Deutschland</td>\n",
       "      <td>Deutschland</td>\n",
       "      <td>Der Bundestag machte 1991 Berlin zur Hauptstad...</td>\n",
       "      <td>36234.107805</td>\n",
       "      <td>0.5</td>\n",
       "    </tr>\n",
       "    <tr>\n",
       "      <th>1</th>\n",
       "      <td>20231101.de_1497705_124</td>\n",
       "      <td>https://de.wikipedia.org/wiki/Deutschland</td>\n",
       "      <td>Deutschland</td>\n",
       "      <td>Bei der Bundestagswahl 1998 verlor Kohls schwa...</td>\n",
       "      <td>36234.107805</td>\n",
       "      <td>0.5</td>\n",
       "    </tr>\n",
       "    <tr>\n",
       "      <th>2</th>\n",
       "      <td>20231101.de_1497705_125</td>\n",
       "      <td>https://de.wikipedia.org/wiki/Deutschland</td>\n",
       "      <td>Deutschland</td>\n",
       "      <td>Die zweite Amtszeit Schröders ab 2002 war von ...</td>\n",
       "      <td>36234.107805</td>\n",
       "      <td>1.0</td>\n",
       "    </tr>\n",
       "    <tr>\n",
       "      <th>3</th>\n",
       "      <td>20231101.de_1497705_126</td>\n",
       "      <td>https://de.wikipedia.org/wiki/Deutschland</td>\n",
       "      <td>Deutschland</td>\n",
       "      <td>Angela Merkel beendete die letzte ihrer vier A...</td>\n",
       "      <td>36234.107805</td>\n",
       "      <td>0.5</td>\n",
       "    </tr>\n",
       "    <tr>\n",
       "      <th>4</th>\n",
       "      <td>20231101.de_1497705_127</td>\n",
       "      <td>https://de.wikipedia.org/wiki/Deutschland</td>\n",
       "      <td>Deutschland</td>\n",
       "      <td>Der russische Überfall auf die Ukraine 2022 fü...</td>\n",
       "      <td>36234.107805</td>\n",
       "      <td>0.5</td>\n",
       "    </tr>\n",
       "    <tr>\n",
       "      <th>...</th>\n",
       "      <td>...</td>\n",
       "      <td>...</td>\n",
       "      <td>...</td>\n",
       "      <td>...</td>\n",
       "      <td>...</td>\n",
       "      <td>...</td>\n",
       "    </tr>\n",
       "    <tr>\n",
       "      <th>11535</th>\n",
       "      <td>20231101.de_33549_93</td>\n",
       "      <td>https://de.wikipedia.org/wiki/Villingen-Schwen...</td>\n",
       "      <td>Villingen-Schwenningen</td>\n",
       "      <td>Mit den Gemeinden Brigachtal, Dauchingen, Mönc...</td>\n",
       "      <td>12652.823342</td>\n",
       "      <td>0.5</td>\n",
       "    </tr>\n",
       "    <tr>\n",
       "      <th>11536</th>\n",
       "      <td>20231101.de_33549_94</td>\n",
       "      <td>https://de.wikipedia.org/wiki/Villingen-Schwen...</td>\n",
       "      <td>Villingen-Schwenningen</td>\n",
       "      <td>Nach der Kommunalabfrage 2007 des Bundes der S...</td>\n",
       "      <td>12652.823342</td>\n",
       "      <td>0.5</td>\n",
       "    </tr>\n",
       "    <tr>\n",
       "      <th>11537</th>\n",
       "      <td>20231101.de_33549_95</td>\n",
       "      <td>https://de.wikipedia.org/wiki/Villingen-Schwen...</td>\n",
       "      <td>Villingen-Schwenningen</td>\n",
       "      <td>2006 insgesamt 111,3 Millionen Euro Schulden (...</td>\n",
       "      <td>12652.823342</td>\n",
       "      <td>1.0</td>\n",
       "    </tr>\n",
       "    <tr>\n",
       "      <th>11538</th>\n",
       "      <td>20231101.de_33549_96</td>\n",
       "      <td>https://de.wikipedia.org/wiki/Villingen-Schwen...</td>\n",
       "      <td>Villingen-Schwenningen</td>\n",
       "      <td>2007 insgesamt 122,3 Millionen Euro Schulden (...</td>\n",
       "      <td>12652.823342</td>\n",
       "      <td>0.5</td>\n",
       "    </tr>\n",
       "    <tr>\n",
       "      <th>11539</th>\n",
       "      <td>20231101.de_33549_97</td>\n",
       "      <td>https://de.wikipedia.org/wiki/Villingen-Schwen...</td>\n",
       "      <td>Villingen-Schwenningen</td>\n",
       "      <td>Das Theater am Ring bietet Theatervorstellunge...</td>\n",
       "      <td>12652.823342</td>\n",
       "      <td>0.5</td>\n",
       "    </tr>\n",
       "  </tbody>\n",
       "</table>\n",
       "<p>11540 rows × 6 columns</p>\n",
       "</div>"
      ],
      "text/plain": [
       "                           _id  \\\n",
       "0      20231101.de_1497705_123   \n",
       "1      20231101.de_1497705_124   \n",
       "2      20231101.de_1497705_125   \n",
       "3      20231101.de_1497705_126   \n",
       "4      20231101.de_1497705_127   \n",
       "...                        ...   \n",
       "11535     20231101.de_33549_93   \n",
       "11536     20231101.de_33549_94   \n",
       "11537     20231101.de_33549_95   \n",
       "11538     20231101.de_33549_96   \n",
       "11539     20231101.de_33549_97   \n",
       "\n",
       "                                                     url  \\\n",
       "0              https://de.wikipedia.org/wiki/Deutschland   \n",
       "1              https://de.wikipedia.org/wiki/Deutschland   \n",
       "2              https://de.wikipedia.org/wiki/Deutschland   \n",
       "3              https://de.wikipedia.org/wiki/Deutschland   \n",
       "4              https://de.wikipedia.org/wiki/Deutschland   \n",
       "...                                                  ...   \n",
       "11535  https://de.wikipedia.org/wiki/Villingen-Schwen...   \n",
       "11536  https://de.wikipedia.org/wiki/Villingen-Schwen...   \n",
       "11537  https://de.wikipedia.org/wiki/Villingen-Schwen...   \n",
       "11538  https://de.wikipedia.org/wiki/Villingen-Schwen...   \n",
       "11539  https://de.wikipedia.org/wiki/Villingen-Schwen...   \n",
       "\n",
       "                        title  \\\n",
       "0                 Deutschland   \n",
       "1                 Deutschland   \n",
       "2                 Deutschland   \n",
       "3                 Deutschland   \n",
       "4                 Deutschland   \n",
       "...                       ...   \n",
       "11535  Villingen-Schwenningen   \n",
       "11536  Villingen-Schwenningen   \n",
       "11537  Villingen-Schwenningen   \n",
       "11538  Villingen-Schwenningen   \n",
       "11539  Villingen-Schwenningen   \n",
       "\n",
       "                                                    text         views  score  \n",
       "0      Der Bundestag machte 1991 Berlin zur Hauptstad...  36234.107805    0.5  \n",
       "1      Bei der Bundestagswahl 1998 verlor Kohls schwa...  36234.107805    0.5  \n",
       "2      Die zweite Amtszeit Schröders ab 2002 war von ...  36234.107805    1.0  \n",
       "3      Angela Merkel beendete die letzte ihrer vier A...  36234.107805    0.5  \n",
       "4      Der russische Überfall auf die Ukraine 2022 fü...  36234.107805    0.5  \n",
       "...                                                  ...           ...    ...  \n",
       "11535  Mit den Gemeinden Brigachtal, Dauchingen, Mönc...  12652.823342    0.5  \n",
       "11536  Nach der Kommunalabfrage 2007 des Bundes der S...  12652.823342    0.5  \n",
       "11537  2006 insgesamt 111,3 Millionen Euro Schulden (...  12652.823342    1.0  \n",
       "11538  2007 insgesamt 122,3 Millionen Euro Schulden (...  12652.823342    0.5  \n",
       "11539  Das Theater am Ring bietet Theatervorstellunge...  12652.823342    0.5  \n",
       "\n",
       "[11540 rows x 6 columns]"
      ]
     },
     "execution_count": 10,
     "metadata": {},
     "output_type": "execute_result"
    }
   ],
   "source": [
    "# Convert dataset to pandas DataFrame\n",
    "df = filtered_ds.to_pandas()\n",
    "\n",
    "# Define a function to select a window of 5 consecutive paragraphs and assign scores\n",
    "def assign_scores(group):\n",
    "    if len(group) >= 5:\n",
    "        scores = [0.5, 0.5, 1.0, 0.5, 0.5]  # Scores for the paragraphs\n",
    "        group['score'] = scores\n",
    "        return group\n",
    "    return None\n",
    "\n",
    "# Group by 'title', apply the function, and drop groups with less than 5 paragraphs\n",
    "grouped_df = df.groupby('title', sort=False).apply(assign_scores).dropna().reset_index(drop=True)\n",
    "\n",
    "# Display the DataFrame with the new 'score' column\n",
    "grouped_df"
   ]
  },
  {
   "cell_type": "code",
   "execution_count": 11,
   "metadata": {},
   "outputs": [
    {
     "data": {
      "text/plain": [
       "Dataset({\n",
       "    features: ['_id', 'url', 'title', 'text', 'views', 'score'],\n",
       "    num_rows: 11540\n",
       "})"
      ]
     },
     "execution_count": 11,
     "metadata": {},
     "output_type": "execute_result"
    }
   ],
   "source": [
    "ds_upload = Dataset.from_pandas(grouped_df)\n",
    "ds_upload\n",
    "\n"
   ]
  },
  {
   "cell_type": "code",
   "execution_count": 12,
   "metadata": {},
   "outputs": [
    {
     "data": {
      "text/plain": [
       "{'_id': '20231101.de_1497705_127',\n",
       " 'url': 'https://de.wikipedia.org/wiki/Deutschland',\n",
       " 'title': 'Deutschland',\n",
       " 'text': 'Der russische Überfall auf die Ukraine 2022 führte zu umfassenden Wirtschaftssanktionen des Westens gegen Russland, an denen sich auch Deutschland beteiligte. Unter anderem stoppte Deutschland die Inbetriebnahme der Gaspipeline Nord Stream 2. Die deutsche Wirtschaft, die sich von russischem Gas abhängig gemacht hatte, musste eine starke Teuerung im Energiesektor hinnehmen. Deutschland unterstützte die Ukraine innerhalb des ersten halben Jahres mit Waffen im Wert von mehreren Millionen Euro sowie der Ausbildung ukrainischer Soldaten.',\n",
       " 'views': 36234.107805126274,\n",
       " 'score': 0.5}"
      ]
     },
     "execution_count": 12,
     "metadata": {},
     "output_type": "execute_result"
    }
   ],
   "source": [
    "ds_upload[4]"
   ]
  },
  {
   "cell_type": "code",
   "execution_count": 13,
   "metadata": {},
   "outputs": [
    {
     "data": {
      "application/vnd.jupyter.widget-view+json": {
       "model_id": "c289f9f532564c42b328db50dd6aed4a",
       "version_major": 2,
       "version_minor": 0
      },
      "text/plain": [
       "Uploading the dataset shards:   0%|          | 0/1 [00:00<?, ?it/s]"
      ]
     },
     "metadata": {},
     "output_type": "display_data"
    },
    {
     "data": {
      "application/vnd.jupyter.widget-view+json": {
       "model_id": "bc0fe8abfa534326b48cd27d5ad003f0",
       "version_major": 2,
       "version_minor": 0
      },
      "text/plain": [
       "Creating parquet from Arrow format:   0%|          | 0/12 [00:00<?, ?ba/s]"
      ]
     },
     "metadata": {},
     "output_type": "display_data"
    },
    {
     "data": {
      "application/vnd.jupyter.widget-view+json": {
       "model_id": "d73773db842e4834a646a2518da81add",
       "version_major": 2,
       "version_minor": 0
      },
      "text/plain": [
       "README.md:   0%|          | 0.00/442 [00:00<?, ?B/s]"
      ]
     },
     "metadata": {},
     "output_type": "display_data"
    },
    {
     "data": {
      "text/plain": [
       "CommitInfo(commit_url='https://huggingface.co/datasets/rasdani/cohere-wikipedia-2023-11-de-scores/commit/fb01311a1fb32839f660c3b75fee3a73c6fb8745', commit_message='Upload dataset', commit_description='', oid='fb01311a1fb32839f660c3b75fee3a73c6fb8745', pr_url=None, pr_revision=None, pr_num=None)"
      ]
     },
     "execution_count": 13,
     "metadata": {},
     "output_type": "execute_result"
    }
   ],
   "source": [
    "ds_upload.push_to_hub(\"rasdani/cohere-wikipedia-2023-11-de-scores\")"
   ]
  },
  {
   "cell_type": "code",
   "execution_count": 14,
   "metadata": {},
   "outputs": [
    {
     "data": {
      "application/vnd.jupyter.widget-view+json": {
       "model_id": "78f0129e882f4eaba1d1a902616ba117",
       "version_major": 2,
       "version_minor": 0
      },
      "text/plain": [
       "Filter:   0%|          | 0/11540 [00:00<?, ? examples/s]"
      ]
     },
     "metadata": {},
     "output_type": "display_data"
    },
    {
     "data": {
      "text/plain": [
       "Dataset({\n",
       "    features: ['_id', 'url', 'title', 'text', 'views', 'score'],\n",
       "    num_rows: 2308\n",
       "})"
      ]
     },
     "execution_count": 14,
     "metadata": {},
     "output_type": "execute_result"
    }
   ],
   "source": [
    "ds_positives = ds_upload.filter(lambda x: x[\"score\"] == 1.0)\n",
    "ds_positives"
   ]
  },
  {
   "cell_type": "code",
   "execution_count": 15,
   "metadata": {},
   "outputs": [
    {
     "data": {
      "application/vnd.jupyter.widget-view+json": {
       "model_id": "0c9926f0d5314ef9adaaa7ba4b0c08e0",
       "version_major": 2,
       "version_minor": 0
      },
      "text/plain": [
       "Uploading the dataset shards:   0%|          | 0/1 [00:00<?, ?it/s]"
      ]
     },
     "metadata": {},
     "output_type": "display_data"
    },
    {
     "data": {
      "application/vnd.jupyter.widget-view+json": {
       "model_id": "aa97cdc67e994fd3883549e676f1e219",
       "version_major": 2,
       "version_minor": 0
      },
      "text/plain": [
       "Creating parquet from Arrow format:   0%|          | 0/3 [00:00<?, ?ba/s]"
      ]
     },
     "metadata": {},
     "output_type": "display_data"
    },
    {
     "data": {
      "text/plain": [
       "CommitInfo(commit_url='https://huggingface.co/datasets/rasdani/cohere-wikipedia-2023-11-de-positives/commit/02a3200af2aae82f4eb6302691fecfa2485f3b1c', commit_message='Upload dataset', commit_description='', oid='02a3200af2aae82f4eb6302691fecfa2485f3b1c', pr_url=None, pr_revision=None, pr_num=None)"
      ]
     },
     "execution_count": 15,
     "metadata": {},
     "output_type": "execute_result"
    }
   ],
   "source": [
    "ds_positives.push_to_hub(\"rasdani/cohere-wikipedia-2023-11-de-positives\")\n",
    "\n"
   ]
  },
  {
   "cell_type": "code",
   "execution_count": 17,
   "metadata": {},
   "outputs": [
    {
     "data": {
      "application/vnd.jupyter.widget-view+json": {
       "model_id": "e6d6927521e544689862af44541049ff",
       "version_major": 2,
       "version_minor": 0
      },
      "text/plain": [
       "Uploading the dataset shards:   0%|          | 0/1 [00:00<?, ?it/s]"
      ]
     },
     "metadata": {},
     "output_type": "display_data"
    },
    {
     "data": {
      "application/vnd.jupyter.widget-view+json": {
       "model_id": "427ccfb61f4d4a26b8a6574a8ccc1ade",
       "version_major": 2,
       "version_minor": 0
      },
      "text/plain": [
       "Creating parquet from Arrow format:   0%|          | 0/1 [00:00<?, ?ba/s]"
      ]
     },
     "metadata": {},
     "output_type": "display_data"
    },
    {
     "data": {
      "application/vnd.jupyter.widget-view+json": {
       "model_id": "250fbaa39dcc4e1ebb252296935d9e6a",
       "version_major": 2,
       "version_minor": 0
      },
      "text/plain": [
       "README.md:   0%|          | 0.00/460 [00:00<?, ?B/s]"
      ]
     },
     "metadata": {},
     "output_type": "display_data"
    },
    {
     "data": {
      "text/plain": [
       "CommitInfo(commit_url='https://huggingface.co/datasets/rasdani/cohere-wikipedia-2023-11-de-positives-debug/commit/77b536fc4f30725d85035472b5cdfd2fb4f1482b', commit_message='Upload dataset', commit_description='', oid='77b536fc4f30725d85035472b5cdfd2fb4f1482b', pr_url=None, pr_revision=None, pr_num=None)"
      ]
     },
     "execution_count": 17,
     "metadata": {},
     "output_type": "execute_result"
    }
   ],
   "source": [
    "ds_positives.shuffle(seed=seed).select(range(200)).push_to_hub(\"rasdani/cohere-wikipedia-2023-11-de-positives-debug\")"
   ]
  },
  {
   "cell_type": "code",
   "execution_count": null,
   "metadata": {},
   "outputs": [],
   "source": []
  }
 ],
 "metadata": {
  "kernelspec": {
   "display_name": "mmteb-wiki-NBRrHnH0-py3.11",
   "language": "python",
   "name": "python3"
  },
  "language_info": {
   "codemirror_mode": {
    "name": "ipython",
    "version": 3
   },
   "file_extension": ".py",
   "mimetype": "text/x-python",
   "name": "python",
   "nbconvert_exporter": "python",
   "pygments_lexer": "ipython3",
   "version": "3.11.9"
  }
 },
 "nbformat": 4,
 "nbformat_minor": 2
}
